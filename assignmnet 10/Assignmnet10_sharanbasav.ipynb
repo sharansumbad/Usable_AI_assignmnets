{
 "cells": [
  {
   "cell_type": "code",
   "execution_count": 1,
   "id": "c5974c69",
   "metadata": {},
   "outputs": [],
   "source": [
    "from sklearn.feature_extraction.text import TfidfVectorizer, CountVectorizer\n",
    "from sklearn.decomposition import LatentDirichletAllocation\n",
    "import string\n",
    "import random\n",
    "import nltk\n",
    "from nltk.corpus import stopwords\n",
    "import re\n",
    "import pandas as pd\n",
    "import numpy as np"
   ]
  },
  {
   "cell_type": "code",
   "execution_count": 2,
   "id": "76102315",
   "metadata": {},
   "outputs": [],
   "source": [
    "# Opening the file\n",
    "f = open(\"amazon_cells_labelled.txt\", \"r\")\n",
    "\n",
    "data =[]\n",
    "# Converting it to pandas dataframe\n",
    "for line in f:\n",
    "    review = line[:len(line) - 2]\n",
    "    sentiment = \"neg\" if line[len(line)-2] == \"0\" else \"pos\"\n",
    "    row = [review, sentiment]\n",
    "    data.append(row)\n",
    "\n",
    "df = pd.DataFrame(data, columns = ['reviews', 'sentiment'])"
   ]
  },
  {
   "cell_type": "code",
   "execution_count": 5,
   "id": "3081ecf9",
   "metadata": {},
   "outputs": [],
   "source": [
    "#Uncomment the line below if you need to download the stopwords\n",
    "#nltk.download('stopwords')\n",
    "stop = stopwords.words('english')\n",
    "\n",
    "def remove_punctuation(text):\n",
    "    translator = str.maketrans('','', string.punctuation)\n",
    "    return text.translate(translator)\n",
    "\n",
    "def remove_stopwords(text):\n",
    "    text = [word.lower() for word in text.split() if word.lower() not in stop]\n",
    "    return \" \".join(text)\n",
    "\n",
    "\n",
    "def remove_numric_character(x):\n",
    "    x = re.sub(r'\\b[0-9]+\\b\\s*', '', x)\n",
    "    return x   \n",
    "\n"
   ]
  },
  {
   "cell_type": "code",
   "execution_count": 8,
   "id": "6ebfc872",
   "metadata": {},
   "outputs": [],
   "source": [
    "#mapping the above functions\n",
    "\n",
    "df[\"reviews\"] = df['reviews'].apply(remove_punctuation)\n",
    "df[\"reviews\"] = df['reviews'].apply(remove_stopwords)\n",
    "df[\"reviews\"] = df['reviews'].apply(remove_numric_character)"
   ]
  },
  {
   "cell_type": "code",
   "execution_count": 12,
   "id": "4ccb8df4",
   "metadata": {},
   "outputs": [
    {
     "data": {
      "text/plain": [
       "CountVectorizer(max_df=0.15, max_features=5000)"
      ]
     },
     "execution_count": 12,
     "metadata": {},
     "output_type": "execute_result"
    }
   ],
   "source": [
    "X"
   ]
  },
  {
   "cell_type": "code",
   "execution_count": 17,
   "id": "05a23f9c",
   "metadata": {},
   "outputs": [],
   "source": [
    "vect = CountVectorizer(max_features = 5000, max_df=.15) \n",
    "X = vect.fit_transform(df[\"reviews\"]) "
   ]
  },
  {
   "cell_type": "code",
   "execution_count": 18,
   "id": "d0b13f75",
   "metadata": {},
   "outputs": [],
   "source": [
    "lda = LatentDirichletAllocation(n_components=10, learning_method=\"batch\", max_iter=25, random_state=0) # Your Code Here\n",
    "document_topics = lda.fit_transform(X)"
   ]
  },
  {
   "cell_type": "code",
   "execution_count": 19,
   "id": "be73328e",
   "metadata": {},
   "outputs": [
    {
     "name": "stdout",
     "output_type": "stream",
     "text": [
      "0 1 2 3 4\n",
      "----------------------\n",
      "worked work service great charger\n",
      "best time buy works im\n",
      "ive get dont product work\n",
      "headset doesnt worst sound car\n",
      "one bought customer love using\n",
      "new back terrible headset well\n",
      "battery make battery happy nice\n",
      "well audio ive clear use\n",
      "motorola battery ever better cool\n",
      "life would well ear product\n",
      "5 6 7 8 9\n",
      "----------------------\n",
      "quality waste disappointed good recommend\n",
      "poor money piece comfortable would\n",
      "excellent also reception case highly\n",
      "product dont never bad one\n",
      "battery headset ive ear use\n",
      "nice case great price item\n",
      "sound ear would quality didnt\n",
      "impressed like junk use work\n",
      "hear great time really like\n",
      "calls could best easy product\n"
     ]
    },
    {
     "name": "stderr",
     "output_type": "stream",
     "text": [
      "/Users/sharanbasavasumbad/python-env/env/lib/python3.9/site-packages/sklearn/utils/deprecation.py:87: FutureWarning: Function get_feature_names is deprecated; get_feature_names is deprecated in 1.0 and will be removed in 1.2. Please use get_feature_names_out instead.\n",
      "  warnings.warn(msg, category=FutureWarning)\n"
     ]
    }
   ],
   "source": [
    "sorting = np.argsort(lda.components_, axis=1)[:, ::-1]\n",
    "feature_names = np.array(vect.get_feature_names())\n",
    "\n",
    "#slide 27\n",
    "def print_topics(topics, feature_names, sorting, topics_per_chunk, n_words):\n",
    "    for i in range(0, len(topics), topics_per_chunk):\n",
    "        these_topics = topics[i: i + topics_per_chunk]\n",
    "        len_this_chunk = len(topics)\n",
    "        \n",
    "        print(*these_topics)\n",
    "        print(\"----------------------\")\n",
    "\n",
    "\n",
    "        for i in range(n_words):\n",
    "            try:\n",
    "                print(*feature_names[sorting[these_topics, i]])\n",
    "            except Exception as e:\n",
    "                print(e)\n",
    "                pass\n",
    "            \n",
    "print_topics(topics=range(10), feature_names=feature_names, sorting=sorting, topics_per_chunk=5, n_words=10)"
   ]
  },
  {
   "cell_type": "code",
   "execution_count": null,
   "id": "7e6640c9",
   "metadata": {},
   "outputs": [],
   "source": []
  }
 ],
 "metadata": {
  "kernelspec": {
   "display_name": "Python 3",
   "language": "python",
   "name": "python3"
  },
  "language_info": {
   "codemirror_mode": {
    "name": "ipython",
    "version": 3
   },
   "file_extension": ".py",
   "mimetype": "text/x-python",
   "name": "python",
   "nbconvert_exporter": "python",
   "pygments_lexer": "ipython3",
   "version": "3.9.10"
  }
 },
 "nbformat": 4,
 "nbformat_minor": 5
}
