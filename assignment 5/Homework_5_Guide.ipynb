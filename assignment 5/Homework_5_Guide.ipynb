{
 "cells": [
  {
   "cell_type": "markdown",
   "id": "ongoing-vehicle",
   "metadata": {},
   "source": [
    "### Homework 5 Guide\n",
    "In this guide, we will be exploring using regression as an intro to artificial intelligence. To begin, we'll need quite a few imports."
   ]
  },
  {
   "cell_type": "code",
   "execution_count": null,
   "id": "ideal-patch",
   "metadata": {},
   "outputs": [],
   "source": [
    "import pandas as pd\n",
    "import sqlite3\n",
    "\n",
    "from sklearn.linear_model import LinearRegression\n",
    "from sklearn.model_selection import train_test_split\n",
    "from sklearn.preprocessing import StandardScaler\n",
    "from sklearn.metrics import r2_score"
   ]
  },
  {
   "cell_type": "markdown",
   "id": "serial-laser",
   "metadata": {},
   "source": [
    "We're going to use the soccer data to run regressions. In the cell below, connect to the database."
   ]
  },
  {
   "cell_type": "code",
   "execution_count": null,
   "id": "attached-cotton",
   "metadata": {},
   "outputs": [],
   "source": [
    "# Input Code Here"
   ]
  },
  {
   "cell_type": "markdown",
   "id": "motivated-shelter",
   "metadata": {},
   "source": [
    "To get started, let's write a query to grab all of the entries from the `Player_Attributes` table, and print the first 5 rows below."
   ]
  },
  {
   "cell_type": "code",
   "execution_count": null,
   "id": "abstract-deployment",
   "metadata": {},
   "outputs": [],
   "source": [
    "player_attr_df = pd.read_sql(\"Your Query Here\", _) # Input Code Here\n",
    "player_attr_df.fillna(11, inplace=True)\n",
    "#Display first 5 rows"
   ]
  },
  {
   "cell_type": "markdown",
   "id": "occupational-tutorial",
   "metadata": {},
   "source": [
    "We are going to play with two fields today, the `gk_handling` field and the `gk_reflexes` field. Let's store those columns in their own variables for easy reading."
   ]
  },
  {
   "cell_type": "code",
   "execution_count": null,
   "id": "velvet-eleven",
   "metadata": {},
   "outputs": [],
   "source": [
    "x = player_attr_df[['Column Here']].values # Input Code Here\n",
    "y = player_attr_df[['Column Here']].values # Input Code Here"
   ]
  },
  {
   "cell_type": "markdown",
   "id": "ranking-conjunction",
   "metadata": {},
   "source": [
    "To preform and evaluate our linear regression, we need to split our data into test and training batches. We can do this by using the `train_test_split()` function. In the cell below, use this function and pass it `x` and `y` as the data for it to split. The final parameter `test_size` indicates how big the test batch should be, in this case 30% of the initial dataset inputted."
   ]
  },
  {
   "cell_type": "code",
   "execution_count": null,
   "id": "adapted-concert",
   "metadata": {},
   "outputs": [],
   "source": [
    "X_train, X_test, Y_train, Y_test = _(_, _, test_size = 0.3) #Input Code here"
   ]
  },
  {
   "cell_type": "markdown",
   "id": "prime-climb",
   "metadata": {},
   "source": [
    "We can now preform the fitting. Let's call the `fit()` function on our `lm` variable, passing the `X_train` and `Y_train` data as parameters."
   ]
  },
  {
   "cell_type": "code",
   "execution_count": null,
   "id": "reasonable-darkness",
   "metadata": {},
   "outputs": [],
   "source": [
    "lm = LinearRegression()\n",
    "lm._(_, _) # Input Code Here"
   ]
  },
  {
   "cell_type": "markdown",
   "id": "offshore-toddler",
   "metadata": {},
   "source": [
    "Great! Now we can use the predict funtion to see how the model preforms against our test data set. Call the `predict()` function on `lm` and pass `X_test` as our input parameter. We'll then see the r2 score to see how correlated these values are. "
   ]
  },
  {
   "cell_type": "code",
   "execution_count": null,
   "id": "occupied-investor",
   "metadata": {},
   "outputs": [],
   "source": [
    "Y_predicted = lm._(_) # Input Code Here\n",
    "rsquared = r2_score(Y_predicted, Y_test)\n",
    "print(\"R2 Score: \" + str(rsquared))"
   ]
  },
  {
   "cell_type": "markdown",
   "id": "surprised-thumbnail",
   "metadata": {},
   "source": [
    "These values are pretty correlated! We can also use the `StandarScalar()` to transform our values before fitting our model. In the cell below, call the `StandardScalar()` function and pass `x` and `y` to the `fit_transform()` functions. "
   ]
  },
  {
   "cell_type": "code",
   "execution_count": null,
   "id": "included-escape",
   "metadata": {},
   "outputs": [],
   "source": [
    "sc = _() # Input Code Here\n",
    "\n",
    "x = sc.fit_transform(_) # Input Code Here\n",
    "y = sc.fit_transform(_) # Input Code Here"
   ]
  },
  {
   "cell_type": "markdown",
   "id": "hourly-thing",
   "metadata": {},
   "source": [
    "Now we can run the model again as we did before. We'll need to split the training and test batches again, then run a new `fit()`. Once fitted, we can again use `predict()` and run a r2 score again."
   ]
  },
  {
   "cell_type": "code",
   "execution_count": 1,
   "id": "statewide-chorus",
   "metadata": {},
   "outputs": [],
   "source": [
    "# Input Code Here to split the dataset"
   ]
  },
  {
   "cell_type": "code",
   "execution_count": 2,
   "id": "liked-nursery",
   "metadata": {},
   "outputs": [],
   "source": [
    "# Input Code Here to create and fit the model"
   ]
  },
  {
   "cell_type": "code",
   "execution_count": null,
   "id": "improved-commercial",
   "metadata": {},
   "outputs": [],
   "source": [
    "Y_predicted = lm._(X_test) # Input Code Here\n",
    "# Input Code Here - Grab the R2 Score like we did above\n",
    "print(\"R2 Score: \" + str(rsquared))"
   ]
  },
  {
   "cell_type": "markdown",
   "id": "manual-offense",
   "metadata": {},
   "source": [
    "And that's basic linear regression with python. Please turn in this notebook completed with your outputs displayed."
   ]
  }
 ],
 "metadata": {
  "kernelspec": {
   "display_name": "Python 3",
   "language": "python",
   "name": "python3"
  },
  "language_info": {
   "codemirror_mode": {
    "name": "ipython",
    "version": 3
   },
   "file_extension": ".py",
   "mimetype": "text/x-python",
   "name": "python",
   "nbconvert_exporter": "python",
   "pygments_lexer": "ipython3",
   "version": "3.9.7"
  }
 },
 "nbformat": 4,
 "nbformat_minor": 5
}
