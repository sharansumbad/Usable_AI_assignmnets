{
 "cells": [
  {
   "cell_type": "code",
   "execution_count": 47,
   "id": "640289da",
   "metadata": {},
   "outputs": [],
   "source": [
    "# Importing Libraries\n",
    "import sqlite3\n",
    "\n",
    "import numpy as np\n",
    "import pandas as pd\n",
    "import seaborn as sns\n",
    "import matplotlib.pyplot as plt\n",
    "\n",
    "from sklearn.linear_model import LinearRegression\n",
    "from sklearn.model_selection import train_test_split\n",
    "from sklearn.preprocessing import StandardScaler\n",
    "from sklearn.model_selection import cross_val_score\n",
    "from sklearn.model_selection import KFold\n",
    "from sklearn.metrics import r2_score"
   ]
  },
  {
   "cell_type": "code",
   "execution_count": 48,
   "id": "e64c9b45",
   "metadata": {},
   "outputs": [
    {
     "data": {
      "text/html": [
       "<div>\n",
       "<style scoped>\n",
       "    .dataframe tbody tr th:only-of-type {\n",
       "        vertical-align: middle;\n",
       "    }\n",
       "\n",
       "    .dataframe tbody tr th {\n",
       "        vertical-align: top;\n",
       "    }\n",
       "\n",
       "    .dataframe thead th {\n",
       "        text-align: right;\n",
       "    }\n",
       "</style>\n",
       "<table border=\"1\" class=\"dataframe\">\n",
       "  <thead>\n",
       "    <tr style=\"text-align: right;\">\n",
       "      <th></th>\n",
       "      <th>type</th>\n",
       "      <th>name</th>\n",
       "      <th>tbl_name</th>\n",
       "      <th>rootpage</th>\n",
       "      <th>sql</th>\n",
       "    </tr>\n",
       "  </thead>\n",
       "  <tbody>\n",
       "    <tr>\n",
       "      <th>0</th>\n",
       "      <td>table</td>\n",
       "      <td>sqlite_sequence</td>\n",
       "      <td>sqlite_sequence</td>\n",
       "      <td>4</td>\n",
       "      <td>CREATE TABLE sqlite_sequence(name,seq)</td>\n",
       "    </tr>\n",
       "    <tr>\n",
       "      <th>1</th>\n",
       "      <td>table</td>\n",
       "      <td>Player_Attributes</td>\n",
       "      <td>Player_Attributes</td>\n",
       "      <td>11</td>\n",
       "      <td>CREATE TABLE \"Player_Attributes\" (\\n\\t`id`\\tIN...</td>\n",
       "    </tr>\n",
       "    <tr>\n",
       "      <th>2</th>\n",
       "      <td>table</td>\n",
       "      <td>Player</td>\n",
       "      <td>Player</td>\n",
       "      <td>14</td>\n",
       "      <td>CREATE TABLE `Player` (\\n\\t`id`\\tINTEGER PRIMA...</td>\n",
       "    </tr>\n",
       "    <tr>\n",
       "      <th>3</th>\n",
       "      <td>table</td>\n",
       "      <td>Match</td>\n",
       "      <td>Match</td>\n",
       "      <td>18</td>\n",
       "      <td>CREATE TABLE `Match` (\\n\\t`id`\\tINTEGER PRIMAR...</td>\n",
       "    </tr>\n",
       "    <tr>\n",
       "      <th>4</th>\n",
       "      <td>table</td>\n",
       "      <td>League</td>\n",
       "      <td>League</td>\n",
       "      <td>24</td>\n",
       "      <td>CREATE TABLE `League` (\\n\\t`id`\\tINTEGER PRIMA...</td>\n",
       "    </tr>\n",
       "    <tr>\n",
       "      <th>5</th>\n",
       "      <td>table</td>\n",
       "      <td>Country</td>\n",
       "      <td>Country</td>\n",
       "      <td>26</td>\n",
       "      <td>CREATE TABLE `Country` (\\n\\t`id`\\tINTEGER PRIM...</td>\n",
       "    </tr>\n",
       "    <tr>\n",
       "      <th>6</th>\n",
       "      <td>table</td>\n",
       "      <td>Team</td>\n",
       "      <td>Team</td>\n",
       "      <td>29</td>\n",
       "      <td>CREATE TABLE \"Team\" (\\n\\t`id`\\tINTEGER PRIMARY...</td>\n",
       "    </tr>\n",
       "    <tr>\n",
       "      <th>7</th>\n",
       "      <td>table</td>\n",
       "      <td>Team_Attributes</td>\n",
       "      <td>Team_Attributes</td>\n",
       "      <td>2</td>\n",
       "      <td>CREATE TABLE `Team_Attributes` (\\n\\t`id`\\tINTE...</td>\n",
       "    </tr>\n",
       "  </tbody>\n",
       "</table>\n",
       "</div>"
      ],
      "text/plain": [
       "    type               name           tbl_name  rootpage  \\\n",
       "0  table    sqlite_sequence    sqlite_sequence         4   \n",
       "1  table  Player_Attributes  Player_Attributes        11   \n",
       "2  table             Player             Player        14   \n",
       "3  table              Match              Match        18   \n",
       "4  table             League             League        24   \n",
       "5  table            Country            Country        26   \n",
       "6  table               Team               Team        29   \n",
       "7  table    Team_Attributes    Team_Attributes         2   \n",
       "\n",
       "                                                 sql  \n",
       "0             CREATE TABLE sqlite_sequence(name,seq)  \n",
       "1  CREATE TABLE \"Player_Attributes\" (\\n\\t`id`\\tIN...  \n",
       "2  CREATE TABLE `Player` (\\n\\t`id`\\tINTEGER PRIMA...  \n",
       "3  CREATE TABLE `Match` (\\n\\t`id`\\tINTEGER PRIMAR...  \n",
       "4  CREATE TABLE `League` (\\n\\t`id`\\tINTEGER PRIMA...  \n",
       "5  CREATE TABLE `Country` (\\n\\t`id`\\tINTEGER PRIM...  \n",
       "6  CREATE TABLE \"Team\" (\\n\\t`id`\\tINTEGER PRIMARY...  \n",
       "7  CREATE TABLE `Team_Attributes` (\\n\\t`id`\\tINTE...  "
      ]
     },
     "execution_count": 48,
     "metadata": {},
     "output_type": "execute_result"
    }
   ],
   "source": [
    "#Loafing the database into dataframe\n",
    "c = sqlite3.connect('database.sqlite')\n",
    "\n",
    "# List all tables in the database\n",
    "df = pd.read_sql_query(\"SELECT * FROM sqlite_master WHERE type='table'\",c)\n",
    "\n",
    "# Output dataframe\n",
    "df"
   ]
  },
  {
   "cell_type": "code",
   "execution_count": 49,
   "id": "50c8b53c",
   "metadata": {},
   "outputs": [],
   "source": [
    "player_attr_df = pd.read_sql(\"SELECT * FROM Player_Attributes\",c) # Input Code Here\n",
    "player_attr_df.fillna(11, inplace=True)\n",
    "#Display first 5 rows"
   ]
  },
  {
   "cell_type": "code",
   "execution_count": 50,
   "id": "f3a06e56",
   "metadata": {},
   "outputs": [
    {
     "data": {
      "text/html": [
       "<div>\n",
       "<style scoped>\n",
       "    .dataframe tbody tr th:only-of-type {\n",
       "        vertical-align: middle;\n",
       "    }\n",
       "\n",
       "    .dataframe tbody tr th {\n",
       "        vertical-align: top;\n",
       "    }\n",
       "\n",
       "    .dataframe thead th {\n",
       "        text-align: right;\n",
       "    }\n",
       "</style>\n",
       "<table border=\"1\" class=\"dataframe\">\n",
       "  <thead>\n",
       "    <tr style=\"text-align: right;\">\n",
       "      <th></th>\n",
       "      <th>id</th>\n",
       "      <th>player_fifa_api_id</th>\n",
       "      <th>player_api_id</th>\n",
       "      <th>date</th>\n",
       "      <th>overall_rating</th>\n",
       "      <th>potential</th>\n",
       "      <th>preferred_foot</th>\n",
       "      <th>attacking_work_rate</th>\n",
       "      <th>defensive_work_rate</th>\n",
       "      <th>crossing</th>\n",
       "      <th>...</th>\n",
       "      <th>vision</th>\n",
       "      <th>penalties</th>\n",
       "      <th>marking</th>\n",
       "      <th>standing_tackle</th>\n",
       "      <th>sliding_tackle</th>\n",
       "      <th>gk_diving</th>\n",
       "      <th>gk_handling</th>\n",
       "      <th>gk_kicking</th>\n",
       "      <th>gk_positioning</th>\n",
       "      <th>gk_reflexes</th>\n",
       "    </tr>\n",
       "  </thead>\n",
       "  <tbody>\n",
       "    <tr>\n",
       "      <th>0</th>\n",
       "      <td>1</td>\n",
       "      <td>218353</td>\n",
       "      <td>505942</td>\n",
       "      <td>2016-02-18 00:00:00</td>\n",
       "      <td>67.0</td>\n",
       "      <td>71.0</td>\n",
       "      <td>right</td>\n",
       "      <td>medium</td>\n",
       "      <td>medium</td>\n",
       "      <td>49.0</td>\n",
       "      <td>...</td>\n",
       "      <td>54.0</td>\n",
       "      <td>48.0</td>\n",
       "      <td>65.0</td>\n",
       "      <td>69.0</td>\n",
       "      <td>69.0</td>\n",
       "      <td>6.0</td>\n",
       "      <td>11.0</td>\n",
       "      <td>10.0</td>\n",
       "      <td>8.0</td>\n",
       "      <td>8.0</td>\n",
       "    </tr>\n",
       "    <tr>\n",
       "      <th>1</th>\n",
       "      <td>2</td>\n",
       "      <td>218353</td>\n",
       "      <td>505942</td>\n",
       "      <td>2015-11-19 00:00:00</td>\n",
       "      <td>67.0</td>\n",
       "      <td>71.0</td>\n",
       "      <td>right</td>\n",
       "      <td>medium</td>\n",
       "      <td>medium</td>\n",
       "      <td>49.0</td>\n",
       "      <td>...</td>\n",
       "      <td>54.0</td>\n",
       "      <td>48.0</td>\n",
       "      <td>65.0</td>\n",
       "      <td>69.0</td>\n",
       "      <td>69.0</td>\n",
       "      <td>6.0</td>\n",
       "      <td>11.0</td>\n",
       "      <td>10.0</td>\n",
       "      <td>8.0</td>\n",
       "      <td>8.0</td>\n",
       "    </tr>\n",
       "    <tr>\n",
       "      <th>2</th>\n",
       "      <td>3</td>\n",
       "      <td>218353</td>\n",
       "      <td>505942</td>\n",
       "      <td>2015-09-21 00:00:00</td>\n",
       "      <td>62.0</td>\n",
       "      <td>66.0</td>\n",
       "      <td>right</td>\n",
       "      <td>medium</td>\n",
       "      <td>medium</td>\n",
       "      <td>49.0</td>\n",
       "      <td>...</td>\n",
       "      <td>54.0</td>\n",
       "      <td>48.0</td>\n",
       "      <td>65.0</td>\n",
       "      <td>66.0</td>\n",
       "      <td>69.0</td>\n",
       "      <td>6.0</td>\n",
       "      <td>11.0</td>\n",
       "      <td>10.0</td>\n",
       "      <td>8.0</td>\n",
       "      <td>8.0</td>\n",
       "    </tr>\n",
       "    <tr>\n",
       "      <th>3</th>\n",
       "      <td>4</td>\n",
       "      <td>218353</td>\n",
       "      <td>505942</td>\n",
       "      <td>2015-03-20 00:00:00</td>\n",
       "      <td>61.0</td>\n",
       "      <td>65.0</td>\n",
       "      <td>right</td>\n",
       "      <td>medium</td>\n",
       "      <td>medium</td>\n",
       "      <td>48.0</td>\n",
       "      <td>...</td>\n",
       "      <td>53.0</td>\n",
       "      <td>47.0</td>\n",
       "      <td>62.0</td>\n",
       "      <td>63.0</td>\n",
       "      <td>66.0</td>\n",
       "      <td>5.0</td>\n",
       "      <td>10.0</td>\n",
       "      <td>9.0</td>\n",
       "      <td>7.0</td>\n",
       "      <td>7.0</td>\n",
       "    </tr>\n",
       "    <tr>\n",
       "      <th>4</th>\n",
       "      <td>5</td>\n",
       "      <td>218353</td>\n",
       "      <td>505942</td>\n",
       "      <td>2007-02-22 00:00:00</td>\n",
       "      <td>61.0</td>\n",
       "      <td>65.0</td>\n",
       "      <td>right</td>\n",
       "      <td>medium</td>\n",
       "      <td>medium</td>\n",
       "      <td>48.0</td>\n",
       "      <td>...</td>\n",
       "      <td>53.0</td>\n",
       "      <td>47.0</td>\n",
       "      <td>62.0</td>\n",
       "      <td>63.0</td>\n",
       "      <td>66.0</td>\n",
       "      <td>5.0</td>\n",
       "      <td>10.0</td>\n",
       "      <td>9.0</td>\n",
       "      <td>7.0</td>\n",
       "      <td>7.0</td>\n",
       "    </tr>\n",
       "  </tbody>\n",
       "</table>\n",
       "<p>5 rows × 42 columns</p>\n",
       "</div>"
      ],
      "text/plain": [
       "   id  player_fifa_api_id  player_api_id                 date  overall_rating  \\\n",
       "0   1              218353         505942  2016-02-18 00:00:00            67.0   \n",
       "1   2              218353         505942  2015-11-19 00:00:00            67.0   \n",
       "2   3              218353         505942  2015-09-21 00:00:00            62.0   \n",
       "3   4              218353         505942  2015-03-20 00:00:00            61.0   \n",
       "4   5              218353         505942  2007-02-22 00:00:00            61.0   \n",
       "\n",
       "   potential preferred_foot attacking_work_rate defensive_work_rate  crossing  \\\n",
       "0       71.0          right              medium              medium      49.0   \n",
       "1       71.0          right              medium              medium      49.0   \n",
       "2       66.0          right              medium              medium      49.0   \n",
       "3       65.0          right              medium              medium      48.0   \n",
       "4       65.0          right              medium              medium      48.0   \n",
       "\n",
       "   ...  vision  penalties  marking  standing_tackle  sliding_tackle  \\\n",
       "0  ...    54.0       48.0     65.0             69.0            69.0   \n",
       "1  ...    54.0       48.0     65.0             69.0            69.0   \n",
       "2  ...    54.0       48.0     65.0             66.0            69.0   \n",
       "3  ...    53.0       47.0     62.0             63.0            66.0   \n",
       "4  ...    53.0       47.0     62.0             63.0            66.0   \n",
       "\n",
       "   gk_diving  gk_handling  gk_kicking  gk_positioning  gk_reflexes  \n",
       "0        6.0         11.0        10.0             8.0          8.0  \n",
       "1        6.0         11.0        10.0             8.0          8.0  \n",
       "2        6.0         11.0        10.0             8.0          8.0  \n",
       "3        5.0         10.0         9.0             7.0          7.0  \n",
       "4        5.0         10.0         9.0             7.0          7.0  \n",
       "\n",
       "[5 rows x 42 columns]"
      ]
     },
     "execution_count": 50,
     "metadata": {},
     "output_type": "execute_result"
    }
   ],
   "source": [
    "player_attr_df.head(5)"
   ]
  },
  {
   "cell_type": "code",
   "execution_count": 51,
   "id": "da7efe6a",
   "metadata": {},
   "outputs": [
    {
     "data": {
      "text/plain": [
       "183978"
      ]
     },
     "execution_count": 51,
     "metadata": {},
     "output_type": "execute_result"
    }
   ],
   "source": [
    "len(player_attr_df)"
   ]
  },
  {
   "cell_type": "code",
   "execution_count": 52,
   "id": "4668f260",
   "metadata": {},
   "outputs": [
    {
     "data": {
      "text/plain": [
       "Index(['id', 'player_fifa_api_id', 'player_api_id', 'date', 'overall_rating',\n",
       "       'potential', 'preferred_foot', 'attacking_work_rate',\n",
       "       'defensive_work_rate', 'crossing', 'finishing', 'heading_accuracy',\n",
       "       'short_passing', 'volleys', 'dribbling', 'curve', 'free_kick_accuracy',\n",
       "       'long_passing', 'ball_control', 'acceleration', 'sprint_speed',\n",
       "       'agility', 'reactions', 'balance', 'shot_power', 'jumping', 'stamina',\n",
       "       'strength', 'long_shots', 'aggression', 'interceptions', 'positioning',\n",
       "       'vision', 'penalties', 'marking', 'standing_tackle', 'sliding_tackle',\n",
       "       'gk_diving', 'gk_handling', 'gk_kicking', 'gk_positioning',\n",
       "       'gk_reflexes'],\n",
       "      dtype='object')"
      ]
     },
     "execution_count": 52,
     "metadata": {},
     "output_type": "execute_result"
    }
   ],
   "source": [
    "player_attr_df.columns"
   ]
  },
  {
   "cell_type": "code",
   "execution_count": 53,
   "id": "77fd35d9",
   "metadata": {},
   "outputs": [],
   "source": [
    "x = player_attr_df[['gk_handling']].values \n",
    "y = player_attr_df[['gk_reflexes']].values"
   ]
  },
  {
   "cell_type": "markdown",
   "id": "6dd0d3e3",
   "metadata": {},
   "source": [
    "### Split the data into training and testing in 0.3 ratio (70% training, 30% testing)"
   ]
  },
  {
   "cell_type": "code",
   "execution_count": 54,
   "id": "0228b372",
   "metadata": {},
   "outputs": [],
   "source": [
    "from sklearn.model_selection import train_test_split\n",
    "\n",
    "X_train, X_test, Y_train, Y_test = train_test_split(x, y, test_size = 0.3)"
   ]
  },
  {
   "cell_type": "code",
   "execution_count": 55,
   "id": "cb9ab040",
   "metadata": {},
   "outputs": [
    {
     "name": "stdout",
     "output_type": "stream",
     "text": [
      "(128784, 1) (55194, 1) (128784, 1) (55194, 1)\n"
     ]
    }
   ],
   "source": [
    "print(X_train.shape, X_test.shape, Y_train.shape, Y_test.shape)"
   ]
  },
  {
   "cell_type": "markdown",
   "id": "3841bd68",
   "metadata": {},
   "source": [
    "### Linear Regression"
   ]
  },
  {
   "cell_type": "code",
   "execution_count": 56,
   "id": "f6753bf1",
   "metadata": {},
   "outputs": [
    {
     "name": "stdout",
     "output_type": "stream",
     "text": [
      "0.9342753939892032\n"
     ]
    }
   ],
   "source": [
    "from sklearn.linear_model import LinearRegression\n",
    "\n",
    "lm = LinearRegression()\n",
    "lm.fit(X_train, Y_train) \n",
    "print(lm.score(X_test, Y_test))"
   ]
  },
  {
   "cell_type": "code",
   "execution_count": 57,
   "id": "ad24d7fc",
   "metadata": {},
   "outputs": [
    {
     "data": {
      "image/png": "[encoded data removed]",
      "text/plain": [
       "<Figure size 432x288 with 1 Axes>"
      ]
     },
     "metadata": {
      "needs_background": "light"
     },
     "output_type": "display_data"
    }
   ],
   "source": [
    "y_pred = lm.predict(X_test)\n",
    "plt.scatter(X_test, Y_test, color ='b')\n",
    "plt.plot(X_test, y_pred, color ='k')\n",
    "  \n",
    "plt.show()\n",
    "# Data scatter of predicted values"
   ]
  },
  {
   "cell_type": "code",
   "execution_count": 58,
   "id": "7908da33",
   "metadata": {},
   "outputs": [
    {
     "name": "stdout",
     "output_type": "stream",
     "text": [
      "R2 Score: 0.9293650051144279\n"
     ]
    }
   ],
   "source": [
    "Y_predicted = lm.predict(X_test) # Input Code Here\n",
    "rsquared = r2_score(Y_predicted, Y_test)\n",
    "print(\"R2 Score: \" + str(rsquared))"
   ]
  },
  {
   "cell_type": "markdown",
   "id": "058f7571",
   "metadata": {},
   "source": [
    "### Standar Scalar transformation "
   ]
  },
  {
   "cell_type": "code",
   "execution_count": 59,
   "id": "6efa1a90",
   "metadata": {},
   "outputs": [],
   "source": [
    "from sklearn.preprocessing import StandardScaler\n",
    "# define standard scaler\n",
    "sc = StandardScaler()\n",
    "\n",
    "x = sc.fit_transform(x) # Input Code Here\n",
    "y = sc.fit_transform(y) # Input Code Here"
   ]
  },
  {
   "cell_type": "code",
   "execution_count": 60,
   "id": "6b6ea96c",
   "metadata": {},
   "outputs": [
    {
     "name": "stdout",
     "output_type": "stream",
     "text": [
      "0.9337446077054987\n"
     ]
    }
   ],
   "source": [
    "X_train, X_test, Y_train, Y_test = train_test_split(x, y, test_size = 0.3)\n",
    "\n",
    "lm = LinearRegression()\n",
    "lm.fit(X_train, Y_train) \n",
    "print(lm.score(X_test, Y_test))"
   ]
  },
  {
   "cell_type": "code",
   "execution_count": 61,
   "id": "6e8974b7",
   "metadata": {},
   "outputs": [
    {
     "data": {
      "image/png": "[encoded data removed]",
      "text/plain": [
       "<Figure size 432x288 with 1 Axes>"
      ]
     },
     "metadata": {
      "needs_background": "light"
     },
     "output_type": "display_data"
    }
   ],
   "source": [
    "y_pred = lm.predict(X_test)\n",
    "plt.scatter(X_test, Y_test, color ='b')\n",
    "plt.plot(X_test, y_pred, color ='k')\n",
    "  \n",
    "plt.show()\n",
    "# Data scatter of predicted values"
   ]
  },
  {
   "cell_type": "code",
   "execution_count": 62,
   "id": "b9316ed4",
   "metadata": {},
   "outputs": [
    {
     "name": "stdout",
     "output_type": "stream",
     "text": [
      "R2 Score: 0.928781356085286\n"
     ]
    }
   ],
   "source": [
    "Y_predicted = lm.predict(X_test) # Input Code Here\n",
    "rsquared = r2_score(Y_predicted, Y_test)\n",
    "print(\"R2 Score: \" + str(rsquared))"
   ]
  },
  {
   "cell_type": "code",
   "execution_count": 63,
   "id": "2220ca0c",
   "metadata": {},
   "outputs": [
    {
     "data": {
      "text/plain": [
       "array([0.93292487, 0.93100319, 0.93453493, 0.93633306, 0.93421865])"
      ]
     },
     "execution_count": 63,
     "metadata": {},
     "output_type": "execute_result"
    }
   ],
   "source": [
    "lm = LinearRegression()\n",
    "scores = cross_val_score(lm, X_train, Y_train, scoring='r2', cv=5)\n",
    "scores   "
   ]
  },
  {
   "cell_type": "markdown",
   "id": "c1d84d61",
   "metadata": {},
   "source": [
    "### Cross-Validation"
   ]
  },
  {
   "cell_type": "code",
   "execution_count": 64,
   "id": "0409407a",
   "metadata": {},
   "outputs": [
    {
     "name": "stdout",
     "output_type": "stream",
     "text": [
      "0.9338093939317818\n"
     ]
    }
   ],
   "source": [
    "# create a KFold object with 5 splits \n",
    "folds = KFold(n_splits = 5, shuffle = True, random_state = 100)\n",
    "scores = cross_val_score(lm, X_train, Y_train, scoring='r2', cv=folds)\n",
    "print(scores.mean())   "
   ]
  },
  {
   "cell_type": "code",
   "execution_count": 74,
   "id": "a012e960",
   "metadata": {},
   "outputs": [],
   "source": [
    "def evaluate_model(Model, lambdas):\n",
    "    training_errors = [] # we will store the error on the training set, for using each different lambda\n",
    "    testing_errors = [] # and the error on the testing set\n",
    "    for l in lambdas:\n",
    "        # in sklearn, they refer to lambda as alpha, the name is different in different literature\n",
    "        # Model will be either Lasso, Ridge or ElasticNet\n",
    "        model = Model(alpha=l, max_iter=1000) # we allow max number of iterations until the model converges\n",
    "        model.fit(X_train, Y_train)\n",
    "\n",
    "        training_predictions = model.predict(X_train)\n",
    "        training_mse = mean_squared_error(Y_train, training_predictions)\n",
    "        training_errors.append(training_mse)\n",
    "\n",
    "        testing_predictions = model.predict(X_test)\n",
    "        testing_mse = mean_squared_error(Y_test, testing_predictions)\n",
    "        testing_errors.append(testing_mse)\n",
    "    return training_errors, testing_errors"
   ]
  },
  {
   "cell_type": "code",
   "execution_count": 75,
   "id": "06351ada",
   "metadata": {},
   "outputs": [],
   "source": [
    "def plot_errors(lambdas, train_errors, test_errors, title):\n",
    "    plt.figure(figsize=(16, 9))\n",
    "    plt.plot(lambdas, train_errors, label=\"train\")\n",
    "    plt.plot(lambdas, test_errors, label=\"test\")\n",
    "    plt.xlabel(\"$\\\\lambda$\", fontsize=14)\n",
    "    plt.ylabel(\"MSE\", fontsize=14)\n",
    "    plt.title(title, fontsize=20)\n",
    "    plt.legend(fontsize=14)\n",
    "    plt.show()"
   ]
  },
  {
   "cell_type": "markdown",
   "id": "da4971d6",
   "metadata": {},
   "source": [
    "###  Lasso Regularizations "
   ]
  },
  {
   "cell_type": "code",
   "execution_count": 66,
   "id": "8eefe573",
   "metadata": {},
   "outputs": [
    {
     "name": "stdout",
     "output_type": "stream",
     "text": [
      "0.1 :  0.923737329196698\n",
      "0.2 :  0.8935916704786845\n",
      "0.3 :  0.843343567095755\n",
      "0.4 :  0.77299301904791\n",
      "0.5 :  0.6825400263351492\n",
      "0.6 :  0.571984588957473\n",
      "0.7 :  0.44132670691488085\n",
      "0.8 :  0.29056638020737313\n",
      "0.9 :  0.11970360883494972\n"
     ]
    }
   ],
   "source": [
    "# import lasso regression library\n",
    "from sklearn.linear_model import Lasso\n",
    "\n",
    "# using lasso to fit X_train, y_train with 10-fold cross-validation over alpha values from 0.1 to 0.9\n",
    "for i in range (1,10):\n",
    "    lasso = Lasso(alpha=i/10)\n",
    "    scores = cross_val_score(lasso, X_train, Y_train, cv=10)\n",
    "    print(i/10, \": \", scores.mean())"
   ]
  },
  {
   "cell_type": "code",
   "execution_count": 76,
   "id": "0f03497f",
   "metadata": {},
   "outputs": [],
   "source": [
    "from sklearn.linear_model import ElasticNet, Lasso, Ridge\n",
    "from sklearn.metrics import mean_squared_error  # we will use MSE for evaluation\n",
    "import matplotlib.pyplot as plt"
   ]
  },
  {
   "cell_type": "code",
   "execution_count": 77,
   "id": "29f2234f",
   "metadata": {},
   "outputs": [
    {
     "data": {
      "image/png": "[encoded data removed]",
      "text/plain": [
       "<Figure size 1152x648 with 1 Axes>"
      ]
     },
     "metadata": {
      "needs_background": "light"
     },
     "output_type": "display_data"
    }
   ],
   "source": [
    "\n",
    "import warnings\n",
    "warnings.filterwarnings('ignore')\n",
    "# let's generate different values for lambda from 0 (no-regularization) and (10 too much regularization)\n",
    "lambdas = np.arange(0, 10, step=0.1)\n",
    "\n",
    "lasso_train, lasso_test = evaluate_model(Lasso, lambdas)\n",
    "plot_errors(lambdas, lasso_train, lasso_test, \"Lasso\")"
   ]
  },
  {
   "cell_type": "code",
   "execution_count": 78,
   "id": "a7e0e39a",
   "metadata": {},
   "outputs": [
    {
     "data": {
      "image/png": "[encoded data removed]",
      "text/plain": [
       "<Figure size 1152x648 with 1 Axes>"
      ]
     },
     "metadata": {
      "needs_background": "light"
     },
     "output_type": "display_data"
    }
   ],
   "source": [
    "lambdas = np.arange(-10, 0.2, step=0.1)\n",
    "\n",
    "lasso_train, lasso_test = evaluate_model(Lasso, lambdas)\n",
    "plot_errors(lambdas, lasso_train, lasso_test, \"Lasso\")"
   ]
  },
  {
   "cell_type": "markdown",
   "id": "7e1203a5",
   "metadata": {},
   "source": [
    "### Ridge Regularization"
   ]
  },
  {
   "cell_type": "code",
   "execution_count": 29,
   "id": "86c7ae14",
   "metadata": {},
   "outputs": [
    {
     "name": "stdout",
     "output_type": "stream",
     "text": [
      "0.1 :  0.9344291402583\n",
      "0.2 :  0.9344291402989555\n",
      "0.3 :  0.9344291403382494\n",
      "0.4 :  0.9344291403761817\n",
      "0.5 :  0.9344291404127528\n",
      "0.6 :  0.9344291404479625\n",
      "0.7 :  0.9344291404818105\n",
      "0.8 :  0.9344291405142974\n",
      "0.9 :  0.9344291405454225\n"
     ]
    }
   ],
   "source": [
    "# import ridge regression library\n",
    "from sklearn.linear_model import Ridge\n",
    "\n",
    "# using ridge to fit X_train, y_train with 10-fold cross-validation over alpha values from 0.1 to 0.9\n",
    "for i in range (1,10):\n",
    "    ridge = Ridge(alpha=i/10)\n",
    "    scores = cross_val_score(ridge, X_train, Y_train, cv=10)\n",
    "    print(i/10, \": \", scores.mean())"
   ]
  },
  {
   "cell_type": "code",
   "execution_count": 79,
   "id": "846707da",
   "metadata": {},
   "outputs": [
    {
     "data": {
      "image/png": "[encoded data removed]",
      "text/plain": [
       "<Figure size 1152x648 with 1 Axes>"
      ]
     },
     "metadata": {
      "needs_background": "light"
     },
     "output_type": "display_data"
    }
   ],
   "source": [
    "# let's generate different values for lambda from 0 (no-regularization) and (10 too much regularization)\n",
    "lambdas = np.arange(0, 10, step=0.1)\n",
    "\n",
    "ridge_train, ridge_test = evaluate_model(Ridge, lambdas)\n",
    "plot_errors(lambdas, ridge_train, ridge_test, \"Ridge\")"
   ]
  },
  {
   "cell_type": "code",
   "execution_count": 81,
   "id": "a563d0fe",
   "metadata": {},
   "outputs": [
    {
     "data": {
      "image/png": "[encoded data removed]",
      "text/plain": [
       "<Figure size 1152x648 with 1 Axes>"
      ]
     },
     "metadata": {
      "needs_background": "light"
     },
     "output_type": "display_data"
    }
   ],
   "source": [
    "lambdas = np.arange(-10, 0.2, step=0.1)\n",
    "\n",
    "ridge_train, ridge_test = evaluate_model(Ridge, lambdas)\n",
    "plot_errors(lambdas, ridge_train, ridge_test, \"Ridge\")"
   ]
  },
  {
   "cell_type": "code",
   "execution_count": 82,
   "id": "bd1eaf7e",
   "metadata": {},
   "outputs": [
    {
     "name": "stdout",
     "output_type": "stream",
     "text": [
      "[NbConvertApp] Converting notebook Assignment5_sharanbasav.ipynb to PDFviaHTML\n",
      "[NbConvertApp] Writing 459669 bytes to Assignment5_sharanbasav.pdf\n"
     ]
    }
   ],
   "source": [
    "!jupyter-nbconvert --to PDFviaHTML Assignment5_sharanbasav.ipynb"
   ]
  },
  {
   "cell_type": "code",
   "execution_count": null,
   "id": "b7d60c9f",
   "metadata": {},
   "outputs": [],
   "source": []
  }
 ],
 "metadata": {
  "kernelspec": {
   "display_name": "Python 3",
   "language": "python",
   "name": "python3"
  },
  "language_info": {
   "codemirror_mode": {
    "name": "ipython",
    "version": 3
   },
   "file_extension": ".py",
   "mimetype": "text/x-python",
   "name": "python",
   "nbconvert_exporter": "python",
   "pygments_lexer": "ipython3",
   "version": "3.9.10"
  }
 },
 "nbformat": 4,
 "nbformat_minor": 5
}
