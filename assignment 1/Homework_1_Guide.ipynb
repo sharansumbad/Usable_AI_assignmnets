{
 "cells": [
  {
   "cell_type": "markdown",
   "metadata": {},
   "source": [
    "# Homework 1 Code Guide \n",
    "In this guide, we will be getting more experienced with python through file processing. With this guide, you will be able to:\n",
    "- read from a text (.txt) file\n",
    "- process the words of the file\n",
    "- output the result of this process\n",
    "\n",
    "To begin, we will first need to make sure the functions (set of instructions) we need to use are included in this file. We'll do this through an import statement, followed by the libraries we need. In this case, we will use the `os` library. In the cell below, type the library name where the `_` is. In the remainder of this guide, you will be filling in some value where ever a `_` is."
   ]
  },
  {
   "cell_type": "code",
   "execution_count": 1,
   "metadata": {},
   "outputs": [],
   "source": [
    "# TODO - Enter Library Name\n",
    "import _"
   ]
  },
  {
   "cell_type": "markdown",
   "metadata": {},
   "source": [
    "Next, we'll need to put the text files in a known location. The cell below prints out the current path, place the text files in this directory to ensure they are found by your script."
   ]
  },
  {
   "cell_type": "code",
   "execution_count": 2,
   "metadata": {},
   "outputs": [
    {
     "name": "stdout",
     "output_type": "stream",
     "text": [
      "C:\\Users\\Cassie\\AppData\\Local\\Programs\\Python\\Python37\\Scripts\\Usable AI\n"
     ]
    }
   ],
   "source": [
    "# Getting the current path and displaying it\n",
    "path = os.getcwd()\n",
    "print(path)"
   ]
  },
  {
   "cell_type": "markdown",
   "metadata": {},
   "source": [
    "With your files placed at the designated location, we can now create a list of the files names to individually loop through. <br> Notice stories is a `list`, as it is assigned to values enclosed by brackets (`[]`)."
   ]
  },
  {
   "cell_type": "code",
   "execution_count": 3,
   "metadata": {},
   "outputs": [],
   "source": [
    "# List of files names to read in the same directory\n",
    "stories = [\"/story-1.txt\", \"/story-2.txt\", \"/story-3.txt\", \"/story-4.txt\"]"
   ]
  },
  {
   "cell_type": "markdown",
   "metadata": {},
   "source": [
    "## Opening and Reading the text files\n",
    "We will now use a `for` loop to iterate over each text file name in our list `stories`.  <br> Within the try block, we will need to call `read()` on `fp` to read in values from the file. We then need to `close()` the `fp` variable. <br> In our `except` block, we check if any issues occur and if they do and if they do we print them to the screen."
   ]
  },
  {
   "cell_type": "code",
   "execution_count": null,
   "metadata": {},
   "outputs": [],
   "source": [
    "# TODO - Fill in the list of story file names\n",
    "for s in stories:\n",
    "    # Declaring our data structures\n",
    "    words = []\n",
    "    count_of_each_word = {}\n",
    "    try:\n",
    "        # Opening the file\n",
    "        with open(path + s, encoding='utf-8') as fp:\n",
    "            # TODO - Fill in the variable that represents the file we are working with\n",
    "            words = _.read().lower().split()\n",
    "            # TODO - Close the file\n",
    "            _.close()\n",
    "    except Exception as e:\n",
    "        #If an exception occures, we print out the exception text to get a better idea of what happened.\n",
    "        print(\"Unable to open the file: \" + str(e))"
   ]
  },
  {
   "cell_type": "markdown",
   "metadata": {},
   "source": [
    "## Counting Words\n",
    "Now we can read the file, we want to count the words that we read into the `words` variable. <br>First, copy the completed code from the previous cell, and paste it into the top of the cell below as indicated by the comment.<br> Ensure the identation remains the same (the `for` loop for words should be nested in the `stories` `for` loop).<br> In the nested `for` loop, replace the `_` with the name of the variable that stores the words from the try statement.<br> <br>Next, we want to call `isalpha()` on `word` to check if the word only contains letters.<br> We then want to check if the word is already in our dictonary `count_of_each_word`.<br> If it is, then we want to increment the count of that entry by one. Else, we want to assign the word the value 1 in the same dictionary."
   ]
  },
  {
   "cell_type": "code",
   "execution_count": null,
   "metadata": {},
   "outputs": [],
   "source": [
    "# TODO - Paste the completed code from the previous code cell here\n",
    "\n",
    "    # TODO - make the below for loop iterate over each word in our \n",
    "    #        list created in the previous code cell\n",
    "    for word in _:\n",
    "        # TODO - call the isAlpha function on word\n",
    "        if word._() == True:\n",
    "            # TODO - Check if word is already included in our dictionary\n",
    "            if(word in _):\n",
    "                # TODO - Incriment the count that is held in the dictionary for the key word\n",
    "                _[word] += 1\n",
    "            else:\n",
    "                # TODO - else, we want to create a new entry for the word \n",
    "                #        and assign it's value to one for that key value in the dictionary\n",
    "                _[word] = 1\n",
    "\n",
    "    # Finally printing all the words on console\n",
    "    print(\"Results of \" + s)\n",
    "    print(count_of_each_word)\n",
    "    print(\"----\")"
   ]
  },
  {
   "cell_type": "markdown",
   "metadata": {},
   "source": [
    "And there you have it! Submit the completed version of the guide on canvas for your homework's hybrid componenet for points."
   ]
  },
  {
   "cell_type": "code",
   "execution_count": null,
   "metadata": {},
   "outputs": [],
   "source": []
  }
 ],
 "metadata": {
  "kernelspec": {
   "display_name": "Python 3",
   "language": "python",
   "name": "python3"
  },
  "language_info": {
   "codemirror_mode": {
    "name": "ipython",
    "version": 3
   },
   "file_extension": ".py",
   "mimetype": "text/x-python",
   "name": "python",
   "nbconvert_exporter": "python",
   "pygments_lexer": "ipython3",
   "version": "3.9.7"
  }
 },
 "nbformat": 4,
 "nbformat_minor": 4
}
