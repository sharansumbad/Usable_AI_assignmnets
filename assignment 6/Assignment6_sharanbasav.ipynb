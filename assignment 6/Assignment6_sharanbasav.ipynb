{
 "cells": [
  {
   "cell_type": "code",
   "execution_count": 47,
   "id": "d5130cb6",
   "metadata": {},
   "outputs": [],
   "source": [
    "import pandas as pd\n",
    "import sqlite3\n",
    "from sklearn.model_selection import train_test_split\n",
    "from sklearn.preprocessing import StandardScaler\n",
    "from sklearn.linear_model import LogisticRegression\n",
    "from sklearn.metrics import accuracy_score\n",
    "from sklearn.svm import SVC\n",
    "from sklearn.neighbors import KNeighborsClassifier\n",
    "from sklearn.tree import DecisionTreeClassifier"
   ]
  },
  {
   "cell_type": "code",
   "execution_count": 2,
   "id": "5f976b5c",
   "metadata": {},
   "outputs": [
    {
     "data": {
      "text/html": [
       "<div>\n",
       "<style scoped>\n",
       "    .dataframe tbody tr th:only-of-type {\n",
       "        vertical-align: middle;\n",
       "    }\n",
       "\n",
       "    .dataframe tbody tr th {\n",
       "        vertical-align: top;\n",
       "    }\n",
       "\n",
       "    .dataframe thead th {\n",
       "        text-align: right;\n",
       "    }\n",
       "</style>\n",
       "<table border=\"1\" class=\"dataframe\">\n",
       "  <thead>\n",
       "    <tr style=\"text-align: right;\">\n",
       "      <th></th>\n",
       "      <th>type</th>\n",
       "      <th>name</th>\n",
       "      <th>tbl_name</th>\n",
       "      <th>rootpage</th>\n",
       "      <th>sql</th>\n",
       "    </tr>\n",
       "  </thead>\n",
       "  <tbody>\n",
       "    <tr>\n",
       "      <th>0</th>\n",
       "      <td>table</td>\n",
       "      <td>sqlite_sequence</td>\n",
       "      <td>sqlite_sequence</td>\n",
       "      <td>4</td>\n",
       "      <td>CREATE TABLE sqlite_sequence(name,seq)</td>\n",
       "    </tr>\n",
       "    <tr>\n",
       "      <th>1</th>\n",
       "      <td>table</td>\n",
       "      <td>Player_Attributes</td>\n",
       "      <td>Player_Attributes</td>\n",
       "      <td>11</td>\n",
       "      <td>CREATE TABLE \"Player_Attributes\" (\\n\\t`id`\\tIN...</td>\n",
       "    </tr>\n",
       "    <tr>\n",
       "      <th>2</th>\n",
       "      <td>table</td>\n",
       "      <td>Player</td>\n",
       "      <td>Player</td>\n",
       "      <td>14</td>\n",
       "      <td>CREATE TABLE `Player` (\\n\\t`id`\\tINTEGER PRIMA...</td>\n",
       "    </tr>\n",
       "    <tr>\n",
       "      <th>3</th>\n",
       "      <td>table</td>\n",
       "      <td>Match</td>\n",
       "      <td>Match</td>\n",
       "      <td>18</td>\n",
       "      <td>CREATE TABLE `Match` (\\n\\t`id`\\tINTEGER PRIMAR...</td>\n",
       "    </tr>\n",
       "    <tr>\n",
       "      <th>4</th>\n",
       "      <td>table</td>\n",
       "      <td>League</td>\n",
       "      <td>League</td>\n",
       "      <td>24</td>\n",
       "      <td>CREATE TABLE `League` (\\n\\t`id`\\tINTEGER PRIMA...</td>\n",
       "    </tr>\n",
       "    <tr>\n",
       "      <th>5</th>\n",
       "      <td>table</td>\n",
       "      <td>Country</td>\n",
       "      <td>Country</td>\n",
       "      <td>26</td>\n",
       "      <td>CREATE TABLE `Country` (\\n\\t`id`\\tINTEGER PRIM...</td>\n",
       "    </tr>\n",
       "    <tr>\n",
       "      <th>6</th>\n",
       "      <td>table</td>\n",
       "      <td>Team</td>\n",
       "      <td>Team</td>\n",
       "      <td>29</td>\n",
       "      <td>CREATE TABLE \"Team\" (\\n\\t`id`\\tINTEGER PRIMARY...</td>\n",
       "    </tr>\n",
       "    <tr>\n",
       "      <th>7</th>\n",
       "      <td>table</td>\n",
       "      <td>Team_Attributes</td>\n",
       "      <td>Team_Attributes</td>\n",
       "      <td>2</td>\n",
       "      <td>CREATE TABLE `Team_Attributes` (\\n\\t`id`\\tINTE...</td>\n",
       "    </tr>\n",
       "  </tbody>\n",
       "</table>\n",
       "</div>"
      ],
      "text/plain": [
       "    type               name           tbl_name  rootpage  \\\n",
       "0  table    sqlite_sequence    sqlite_sequence         4   \n",
       "1  table  Player_Attributes  Player_Attributes        11   \n",
       "2  table             Player             Player        14   \n",
       "3  table              Match              Match        18   \n",
       "4  table             League             League        24   \n",
       "5  table            Country            Country        26   \n",
       "6  table               Team               Team        29   \n",
       "7  table    Team_Attributes    Team_Attributes         2   \n",
       "\n",
       "                                                 sql  \n",
       "0             CREATE TABLE sqlite_sequence(name,seq)  \n",
       "1  CREATE TABLE \"Player_Attributes\" (\\n\\t`id`\\tIN...  \n",
       "2  CREATE TABLE `Player` (\\n\\t`id`\\tINTEGER PRIMA...  \n",
       "3  CREATE TABLE `Match` (\\n\\t`id`\\tINTEGER PRIMAR...  \n",
       "4  CREATE TABLE `League` (\\n\\t`id`\\tINTEGER PRIMA...  \n",
       "5  CREATE TABLE `Country` (\\n\\t`id`\\tINTEGER PRIM...  \n",
       "6  CREATE TABLE \"Team\" (\\n\\t`id`\\tINTEGER PRIMARY...  \n",
       "7  CREATE TABLE `Team_Attributes` (\\n\\t`id`\\tINTE...  "
      ]
     },
     "execution_count": 2,
     "metadata": {},
     "output_type": "execute_result"
    }
   ],
   "source": [
    "#Loafing the database into dataframe\n",
    "c = sqlite3.connect('database.sqlite')\n",
    "\n",
    "# List all tables in the database\n",
    "df = pd.read_sql_query(\"SELECT * FROM sqlite_master WHERE type='table'\",c)\n",
    "\n",
    "# Output dataframe\n",
    "df"
   ]
  },
  {
   "cell_type": "code",
   "execution_count": 4,
   "id": "de46be38",
   "metadata": {},
   "outputs": [],
   "source": [
    "player_attr_df = pd.read_sql(\"SELECT * FROM Player_Attributes\",c) \n",
    "player_attr_df.fillna(11, inplace=True)"
   ]
  },
  {
   "cell_type": "code",
   "execution_count": 5,
   "id": "9cd9e4b3",
   "metadata": {},
   "outputs": [
    {
     "name": "stdout",
     "output_type": "stream",
     "text": [
      "<class 'pandas.core.frame.DataFrame'>\n",
      "RangeIndex: 183978 entries, 0 to 183977\n",
      "Data columns (total 42 columns):\n",
      " #   Column               Non-Null Count   Dtype  \n",
      "---  ------               --------------   -----  \n",
      " 0   id                   183978 non-null  int64  \n",
      " 1   player_fifa_api_id   183978 non-null  int64  \n",
      " 2   player_api_id        183978 non-null  int64  \n",
      " 3   date                 183978 non-null  object \n",
      " 4   overall_rating       183978 non-null  float64\n",
      " 5   potential            183978 non-null  float64\n",
      " 6   preferred_foot       183978 non-null  object \n",
      " 7   attacking_work_rate  183978 non-null  object \n",
      " 8   defensive_work_rate  183978 non-null  object \n",
      " 9   crossing             183978 non-null  float64\n",
      " 10  finishing            183978 non-null  float64\n",
      " 11  heading_accuracy     183978 non-null  float64\n",
      " 12  short_passing        183978 non-null  float64\n",
      " 13  volleys              183978 non-null  float64\n",
      " 14  dribbling            183978 non-null  float64\n",
      " 15  curve                183978 non-null  float64\n",
      " 16  free_kick_accuracy   183978 non-null  float64\n",
      " 17  long_passing         183978 non-null  float64\n",
      " 18  ball_control         183978 non-null  float64\n",
      " 19  acceleration         183978 non-null  float64\n",
      " 20  sprint_speed         183978 non-null  float64\n",
      " 21  agility              183978 non-null  float64\n",
      " 22  reactions            183978 non-null  float64\n",
      " 23  balance              183978 non-null  float64\n",
      " 24  shot_power           183978 non-null  float64\n",
      " 25  jumping              183978 non-null  float64\n",
      " 26  stamina              183978 non-null  float64\n",
      " 27  strength             183978 non-null  float64\n",
      " 28  long_shots           183978 non-null  float64\n",
      " 29  aggression           183978 non-null  float64\n",
      " 30  interceptions        183978 non-null  float64\n",
      " 31  positioning          183978 non-null  float64\n",
      " 32  vision               183978 non-null  float64\n",
      " 33  penalties            183978 non-null  float64\n",
      " 34  marking              183978 non-null  float64\n",
      " 35  standing_tackle      183978 non-null  float64\n",
      " 36  sliding_tackle       183978 non-null  float64\n",
      " 37  gk_diving            183978 non-null  float64\n",
      " 38  gk_handling          183978 non-null  float64\n",
      " 39  gk_kicking           183978 non-null  float64\n",
      " 40  gk_positioning       183978 non-null  float64\n",
      " 41  gk_reflexes          183978 non-null  float64\n",
      "dtypes: float64(35), int64(3), object(4)\n",
      "memory usage: 59.0+ MB\n"
     ]
    }
   ],
   "source": [
    "player_attr_df.info()"
   ]
  },
  {
   "cell_type": "markdown",
   "id": "00b32011",
   "metadata": {},
   "source": [
    "## Using  'gk_kicking' , 'gk_handling' and 'gk_reflexes'"
   ]
  },
  {
   "cell_type": "code",
   "execution_count": 35,
   "id": "dfd8c6dd",
   "metadata": {},
   "outputs": [
    {
     "data": {
      "text/plain": [
       "0    8.0\n",
       "1    8.0\n",
       "2    8.0\n",
       "3    7.0\n",
       "4    7.0\n",
       "Name: gk_reflexes, dtype: float64"
      ]
     },
     "execution_count": 35,
     "metadata": {},
     "output_type": "execute_result"
    }
   ],
   "source": [
    "player_attr_df['gk_reflexes'].head()"
   ]
  },
  {
   "cell_type": "code",
   "execution_count": 13,
   "id": "5fcabdc1",
   "metadata": {},
   "outputs": [
    {
     "data": {
      "text/plain": [
       "1.0"
      ]
     },
     "execution_count": 13,
     "metadata": {},
     "output_type": "execute_result"
    }
   ],
   "source": [
    "player_attr_df['gk_reflexes'].min()"
   ]
  },
  {
   "cell_type": "code",
   "execution_count": 14,
   "id": "8c0f0a04",
   "metadata": {},
   "outputs": [
    {
     "data": {
      "text/plain": [
       "96.0"
      ]
     },
     "execution_count": 14,
     "metadata": {},
     "output_type": "execute_result"
    }
   ],
   "source": [
    "player_attr_df['gk_reflexes'].max()"
   ]
  },
  {
   "cell_type": "markdown",
   "id": "b612fbed",
   "metadata": {},
   "source": [
    "### Using Bins to create Categories "
   ]
  },
  {
   "cell_type": "code",
   "execution_count": 36,
   "id": "7dad176f",
   "metadata": {},
   "outputs": [],
   "source": [
    "binInterval = [0.0, 24.0, 48.0, 72.0 , 96.0]\n",
    "binLabels   = [ 1, 2, 3, 4]\n",
    "player_attr_df['binned_gk_reflexes'] = pd.cut(player_attr_df['gk_reflexes'], bins = binInterval, labels=binLabels)\n",
    "player_attr_df['binned_gk_reflexes'] = pd.Categorical(player_attr_df.binned_gk_reflexes)"
   ]
  },
  {
   "cell_type": "code",
   "execution_count": 38,
   "id": "3d238af2",
   "metadata": {},
   "outputs": [],
   "source": [
    "df1 = player_attr_df[['binned_gk_reflexes','gk_kicking','gk_handling' ]]"
   ]
  },
  {
   "cell_type": "code",
   "execution_count": 39,
   "id": "b6c2fe00",
   "metadata": {},
   "outputs": [
    {
     "name": "stdout",
     "output_type": "stream",
     "text": [
      "<class 'pandas.core.frame.DataFrame'>\n",
      "RangeIndex: 183978 entries, 0 to 183977\n",
      "Data columns (total 3 columns):\n",
      " #   Column              Non-Null Count   Dtype   \n",
      "---  ------              --------------   -----   \n",
      " 0   binned_gk_reflexes  183978 non-null  category\n",
      " 1   gk_kicking          183978 non-null  float64 \n",
      " 2   gk_handling         183978 non-null  float64 \n",
      "dtypes: category(1), float64(2)\n",
      "memory usage: 3.0 MB\n"
     ]
    }
   ],
   "source": [
    "df1.info()"
   ]
  },
  {
   "cell_type": "code",
   "execution_count": 40,
   "id": "8bf1c3b0",
   "metadata": {},
   "outputs": [
    {
     "data": {
      "text/plain": [
       "binned_gk_reflexes    0\n",
       "gk_kicking            0\n",
       "gk_handling           0\n",
       "dtype: int64"
      ]
     },
     "execution_count": 40,
     "metadata": {},
     "output_type": "execute_result"
    }
   ],
   "source": [
    "df1.isnull().sum()"
   ]
  },
  {
   "cell_type": "code",
   "execution_count": 42,
   "id": "ed30ea67",
   "metadata": {},
   "outputs": [],
   "source": [
    "x = df1[['gk_kicking','gk_handling']]\n",
    "y = df1['binned_gk_reflexes']"
   ]
  },
  {
   "cell_type": "markdown",
   "id": "832198eb",
   "metadata": {},
   "source": [
    "### Train Test Split"
   ]
  },
  {
   "cell_type": "code",
   "execution_count": 43,
   "id": "0462981a",
   "metadata": {},
   "outputs": [],
   "source": [
    "X_train, X_test, y_train, y_test= train_test_split(x, y, test_size = 0.3)  # Your Code Here\n",
    "sc= StandardScaler()\n",
    "sc.fit(X_train)\n",
    "X_train_std= sc.fit_transform(X_train) # Your Code Here\n",
    "X_test_std= sc.fit_transform(X_test) # Your Code Here"
   ]
  },
  {
   "cell_type": "markdown",
   "id": "e978bf6d",
   "metadata": {},
   "source": [
    "### Logistic Regression"
   ]
  },
  {
   "cell_type": "code",
   "execution_count": 44,
   "id": "63ab5753",
   "metadata": {},
   "outputs": [
    {
     "name": "stdout",
     "output_type": "stream",
     "text": [
      "Accuracy: 0.9820089140123927\n"
     ]
    }
   ],
   "source": [
    "lr= LogisticRegression(C=1000.0, random_state=0,max_iter=1000)\n",
    "lr.fit(X_train_std, y_train.ravel())\n",
    "y_pred= lr.predict(X_test_std)\n",
    "\n",
    "print(f'Accuracy: {accuracy_score(y_test, y_pred)}')"
   ]
  },
  {
   "cell_type": "markdown",
   "id": "652b1e7a",
   "metadata": {},
   "source": [
    "###  SVM"
   ]
  },
  {
   "cell_type": "code",
   "execution_count": 45,
   "id": "a01bc364",
   "metadata": {},
   "outputs": [
    {
     "name": "stdout",
     "output_type": "stream",
     "text": [
      "Accuracy: 0.9819002065441896\n"
     ]
    }
   ],
   "source": [
    "svm= SVC(kernel='linear', C=1.0, random_state=0, cache_size=7000) \n",
    "svm.fit(X_train_std, y_train.ravel())\n",
    "y_pred = svm.predict(X_test_std)\n",
    "\n",
    "print(f'Accuracy: {accuracy_score(y_test, y_pred)}')"
   ]
  },
  {
   "cell_type": "markdown",
   "id": "bbc5906d",
   "metadata": {},
   "source": [
    "### Decission Tree"
   ]
  },
  {
   "cell_type": "code",
   "execution_count": 50,
   "id": "459a08af",
   "metadata": {},
   "outputs": [
    {
     "name": "stdout",
     "output_type": "stream",
     "text": [
      "Accuracy: 0.9783309780048556\n"
     ]
    }
   ],
   "source": [
    "dt = DecisionTreeClassifier(random_state=0)\n",
    "dt.fit(X_train_std, y_train.ravel())\n",
    "y_pred= dt.predict(X_test_std)\n",
    "\n",
    "print(f'Accuracy: {accuracy_score(y_test, y_pred)}')"
   ]
  },
  {
   "cell_type": "markdown",
   "id": "daf0ba7d",
   "metadata": {},
   "source": [
    "### KNN"
   ]
  },
  {
   "cell_type": "code",
   "execution_count": 51,
   "id": "376046e5",
   "metadata": {},
   "outputs": [
    {
     "name": "stdout",
     "output_type": "stream",
     "text": [
      "Accuracy: 0.9776243794615357\n"
     ]
    }
   ],
   "source": [
    "knn = KNeighborsClassifier()\n",
    "knn.fit(X_train_std, y_train.ravel())\n",
    "y_pred= knn.predict(X_test_std)\n",
    "\n",
    "print(f'Accuracy: {accuracy_score(y_test, y_pred)}')"
   ]
  },
  {
   "cell_type": "markdown",
   "id": "9e7d9f15",
   "metadata": {},
   "source": [
    "## Using only 'gk_kicking' and 'gk_handling'\n",
    " \n",
    " \n",
    "Repeating all the above steps But including only 'gk_kicking' and 'gk_handling'\n"
   ]
  },
  {
   "cell_type": "code",
   "execution_count": 52,
   "id": "144bfbbf",
   "metadata": {},
   "outputs": [
    {
     "data": {
      "text/plain": [
       "1.0"
      ]
     },
     "execution_count": 52,
     "metadata": {},
     "output_type": "execute_result"
    }
   ],
   "source": [
    "df1['gk_kicking'].min()"
   ]
  },
  {
   "cell_type": "code",
   "execution_count": 53,
   "id": "483c94d5",
   "metadata": {},
   "outputs": [
    {
     "data": {
      "text/plain": [
       "97.0"
      ]
     },
     "execution_count": 53,
     "metadata": {},
     "output_type": "execute_result"
    }
   ],
   "source": [
    "df1['gk_kicking'].max()"
   ]
  },
  {
   "cell_type": "markdown",
   "id": "4452303a",
   "metadata": {},
   "source": [
    "### Using Bins to create Categories "
   ]
  },
  {
   "cell_type": "code",
   "execution_count": 104,
   "id": "61048a5f",
   "metadata": {},
   "outputs": [],
   "source": [
    "binInterval = [0.0, 24.3, 48.5, 72.8 , 97.0]\n",
    "binLabels   = [ 1, 2, 3, 4]\n",
    "player_attr_df['binned_gk_kicking'] = pd.cut(player_attr_df['gk_kicking'], bins = binInterval, labels=binLabels)\n",
    "player_attr_df['binned_gk_kicking'] = pd.Categorical(player_attr_df.binned_gk_kicking)"
   ]
  },
  {
   "cell_type": "code",
   "execution_count": 113,
   "id": "bd425047",
   "metadata": {},
   "outputs": [],
   "source": [
    "x = player_attr_df['gk_handling']\n",
    "y = player_attr_df['binned_gk_kicking']"
   ]
  },
  {
   "cell_type": "markdown",
   "id": "1ee33bb1",
   "metadata": {},
   "source": [
    "### Train Test Split"
   ]
  },
  {
   "cell_type": "code",
   "execution_count": 106,
   "id": "26673f4e",
   "metadata": {},
   "outputs": [],
   "source": [
    "X_train, X_test, y_train, y_test= train_test_split(x, y, test_size = 0.3)  # Your Code Here\n",
    "sc= StandardScaler()\n",
    "X_train = X_train.values.reshape(-1, 1)\n",
    "X_test = X_test.values.reshape(-1, 1)\n",
    "sc.fit(pd.DataFrame(X_train))\n",
    "X_train_std= sc.fit_transform(X_train) # Your Code Here\n",
    "X_test_std= sc.fit_transform(X_test) # Your Code Here"
   ]
  },
  {
   "cell_type": "markdown",
   "id": "3611a4be",
   "metadata": {},
   "source": [
    "### Logistic Regression"
   ]
  },
  {
   "cell_type": "code",
   "execution_count": 107,
   "id": "2dd3e76d",
   "metadata": {},
   "outputs": [
    {
     "name": "stdout",
     "output_type": "stream",
     "text": [
      "Accuracy: 0.9177809182157481\n"
     ]
    }
   ],
   "source": [
    "\n",
    "lr= LogisticRegression(C=1000.0, random_state=0,max_iter=1000)\n",
    "lr.fit(X_train_std, y_train.ravel())\n",
    "y_pred= lr.predict(X_test_std)\n",
    "\n",
    "print(f'Accuracy: {accuracy_score(y_test, y_pred)}')"
   ]
  },
  {
   "cell_type": "markdown",
   "id": "0a103a46",
   "metadata": {},
   "source": [
    "###  SVM"
   ]
  },
  {
   "cell_type": "code",
   "execution_count": 108,
   "id": "91993f47",
   "metadata": {},
   "outputs": [
    {
     "name": "stdout",
     "output_type": "stream",
     "text": [
      "Accuracy: 0.9177809182157481\n"
     ]
    }
   ],
   "source": [
    "svm= SVC(kernel='linear', C=1.0, random_state=0, cache_size=7000) \n",
    "svm.fit(X_train_std, y_train.ravel())\n",
    "y_pred = svm.predict(X_test_std)\n",
    "\n",
    "print(f'Accuracy: {accuracy_score(y_test, y_pred)}')"
   ]
  },
  {
   "cell_type": "markdown",
   "id": "9ad52a56",
   "metadata": {},
   "source": [
    "### Decission Tree"
   ]
  },
  {
   "cell_type": "code",
   "execution_count": 109,
   "id": "36c9147a",
   "metadata": {},
   "outputs": [
    {
     "name": "stdout",
     "output_type": "stream",
     "text": [
      "Accuracy: 0.918994818277349\n"
     ]
    }
   ],
   "source": [
    "dt = DecisionTreeClassifier(random_state=0)\n",
    "dt.fit(X_train_std, y_train.ravel())\n",
    "y_pred= dt.predict(X_test_std)\n",
    "\n",
    "print(f'Accuracy: {accuracy_score(y_test, y_pred)}')"
   ]
  },
  {
   "cell_type": "markdown",
   "id": "050d3382",
   "metadata": {},
   "source": [
    "### KNN"
   ]
  },
  {
   "cell_type": "code",
   "execution_count": 111,
   "id": "3809f5aa",
   "metadata": {},
   "outputs": [
    {
     "name": "stdout",
     "output_type": "stream",
     "text": [
      "Accuracy: 0.9139761568286408\n"
     ]
    }
   ],
   "source": [
    "knn = KNeighborsClassifier()\n",
    "knn.fit(X_train_std, y_train.ravel())\n",
    "y_pred= knn.predict(X_test_std)\n",
    "\n",
    "print(f'Accuracy: {accuracy_score(y_test, y_pred)}')"
   ]
  },
  {
   "cell_type": "markdown",
   "id": "ec1c28e3",
   "metadata": {},
   "source": [
    "### Since this assignment (Classification) and the previous assignment (Regression) are with the same data, can you compare and conclude which technique is yielding best results?\n",
    "\n",
    "It is very clear that when two independent varaibles are considered in this case 'gk_kicking','gk_handling' , dependent varaible as the 'binned_gk_reflexes',  Logistic regression; the most basic classification algorithm gave the best result of 98 % accuracy . When compared to the previous assignment Linear Regression algorithm.\n",
    "\n",
    "But when we set 'gk_handling' as independent variable and 'binned_gk_kicking' as the target variable , as we did in the last assignmnet  taking only  these two varibale with only diffrence the target varaible was Continious in the last assignmnet , But here we have modified it to a Categorical varaible .\n",
    "The Linear regression model perfromed better than the Logistic Regression Model, This says that the data was a Regression data and not Classification data ."
   ]
  },
  {
   "cell_type": "code",
   "execution_count": 115,
   "id": "c9a5ace6",
   "metadata": {},
   "outputs": [
    {
     "name": "stdout",
     "output_type": "stream",
     "text": [
      "[NbConvertApp] Converting notebook Assignment6_sharanbasav.ipynb to PDFviaHTML\n",
      "[NbConvertApp] Writing 286481 bytes to Assignment6_sharanbasav.pdf\n"
     ]
    }
   ],
   "source": [
    "!jupyter-nbconvert --to PDFviaHTML Assignment6_sharanbasav.ipynb"
   ]
  },
  {
   "cell_type": "code",
   "execution_count": null,
   "id": "84362c32",
   "metadata": {},
   "outputs": [],
   "source": []
  }
 ],
 "metadata": {
  "kernelspec": {
   "display_name": "Python 3",
   "language": "python",
   "name": "python3"
  },
  "language_info": {
   "codemirror_mode": {
    "name": "ipython",
    "version": 3
   },
   "file_extension": ".py",
   "mimetype": "text/x-python",
   "name": "python",
   "nbconvert_exporter": "python",
   "pygments_lexer": "ipython3",
   "version": "3.9.10"
  }
 },
 "nbformat": 4,
 "nbformat_minor": 5
}
