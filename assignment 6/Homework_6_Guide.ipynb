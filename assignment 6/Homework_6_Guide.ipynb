{
 "cells": [
  {
   "cell_type": "markdown",
   "id": "whole-female",
   "metadata": {},
   "source": [
    "### Homework 6 Guide\n",
    "<br>\n",
    "In this assignment, we will be applying some basic classification methods to the soccer database (found on canvas). We will first need to import all the libraries required for this guide."
   ]
  },
  {
   "cell_type": "code",
   "execution_count": null,
   "id": "committed-enzyme",
   "metadata": {},
   "outputs": [],
   "source": [
    "import pandas as pd\n",
    "import sqlite3\n",
    "from sklearn.model_selection import train_test_split\n",
    "from sklearn.preprocessing import StandardScaler\n",
    "from sklearn.linear_model import LogisticRegression\n",
    "from sklearn.metrics import accuracy_score\n",
    "from sklearn.svm import SVC\n",
    "from sklearn.neighbors import KNeighborsClassifier"
   ]
  },
  {
   "cell_type": "markdown",
   "id": "advisory-abortion",
   "metadata": {},
   "source": [
    "To start this assignment, we first need to connect to the sqlite database, do so below."
   ]
  },
  {
   "cell_type": "code",
   "execution_count": null,
   "id": "binding-chorus",
   "metadata": {},
   "outputs": [],
   "source": [
    " # Your Code Here"
   ]
  },
  {
   "cell_type": "markdown",
   "id": "naked-lawyer",
   "metadata": {},
   "source": [
    "Now connected, let's grab all rows from the `Player_Attributes` table using the `read_sql()` function."
   ]
  },
  {
   "cell_type": "code",
   "execution_count": null,
   "id": "terminal-college",
   "metadata": {},
   "outputs": [],
   "source": [
    "player_attr_df = # Your Code Here\n",
    "player_attr_df.fillna(11, inplace=True)\n",
    "player_attr_df.head()"
   ]
  },
  {
   "cell_type": "markdown",
   "id": "individual-insurance",
   "metadata": {},
   "source": [
    "For this classifying, we'll be using the `gk_handling` and `gk_reflexes`. Pull these values into `x` and `y`."
   ]
  },
  {
   "cell_type": "code",
   "execution_count": null,
   "id": "alternate-appendix",
   "metadata": {},
   "outputs": [],
   "source": [
    "x = player_attr_df[['']].values # Your Code Here\n",
    "y = player_attr_df[['']].values # Your Code Here"
   ]
  },
  {
   "cell_type": "markdown",
   "id": "brazilian-attribute",
   "metadata": {},
   "source": [
    "Let's split the data set into test and training sets using the `train_test_split()` function. We'll want to transform our `x` variable, which can be done by calling the `transform()` function."
   ]
  },
  {
   "cell_type": "code",
   "execution_count": null,
   "id": "fancy-geometry",
   "metadata": {},
   "outputs": [],
   "source": [
    "X_train, X_test, y_train, y_test=  # Your Code Here\n",
    "sc= StandardScaler()\n",
    "sc.fit(X_train)\n",
    "X_train_std= sc._(X_train) # Your Code Here\n",
    "X_test_std= sc._(X_test) # Your Code Here"
   ]
  },
  {
   "cell_type": "markdown",
   "id": "bright-census",
   "metadata": {},
   "source": [
    "To preform a logistic regression, we'll use the `LogisticRegression()` function. This may take a couple moments to run."
   ]
  },
  {
   "cell_type": "code",
   "execution_count": null,
   "id": "tribal-option",
   "metadata": {},
   "outputs": [],
   "source": [
    "lr= _(C=1000.0, random_state=0,max_iter=1000) #Your Code Here\n",
    "lr.fit(X_train_std, y_train.ravel())\n",
    "y_pred= lr.predict(X_test_std)\n",
    "\n",
    "print(f'Accuracy: {accuracy_score(y_test, y_pred)}')"
   ]
  },
  {
   "cell_type": "markdown",
   "id": "verbal-ordering",
   "metadata": {},
   "source": [
    "Great! Let's try applying SVM instead. Try using `SVC()` below, then use the same prediction and output methods as the above cell."
   ]
  },
  {
   "cell_type": "code",
   "execution_count": null,
   "id": "monetary-ottawa",
   "metadata": {},
   "outputs": [],
   "source": [
    "svm= _(kernel='linear', C=1.0, random_state=0, cache_size=7000) # Your Code Here\n",
    "svm.fit(X_train_std, y_train.ravel())\n",
    "y_pred = # Your Prediction Code Here\n",
    "\n",
    "print(f'Accuracy: {accuracy_score(y_test, y_pred)}')"
   ]
  },
  {
   "cell_type": "markdown",
   "id": "respective-little",
   "metadata": {},
   "source": [
    "Let's try using a KNeightbors Classifier. We can call the `KNeighborsClassifier()` function, and supply 2 parameters: `n_neighbors=5` and `matric='euclidean`. Once you run this method, display the accuracy of your model as you did in the above cells."
   ]
  },
  {
   "cell_type": "code",
   "execution_count": null,
   "id": "secret-notice",
   "metadata": {},
   "outputs": [],
   "source": [
    "knn= # Your Code here\n",
    "\n",
    "#Your Code to fit the model here\n",
    "\n",
    "y_pred= # Your Prediction Code Here\n",
    "\n",
    "# Your Accuracy Output Code Here"
   ]
  },
  {
   "cell_type": "markdown",
   "id": "muslim-price",
   "metadata": {},
   "source": [
    "Lastly, in the cell below, comment of the models you ran, which one preformed the classifications best in your opinion."
   ]
  },
  {
   "cell_type": "code",
   "execution_count": null,
   "id": "referenced-satisfaction",
   "metadata": {},
   "outputs": [],
   "source": [
    "#Your Answer Here"
   ]
  }
 ],
 "metadata": {
  "kernelspec": {
   "display_name": "Python 3",
   "language": "python",
   "name": "python3"
  },
  "language_info": {
   "codemirror_mode": {
    "name": "ipython",
    "version": 3
   },
   "file_extension": ".py",
   "mimetype": "text/x-python",
   "name": "python",
   "nbconvert_exporter": "python",
   "pygments_lexer": "ipython3",
   "version": "3.9.10"
  }
 },
 "nbformat": 4,
 "nbformat_minor": 5
}
