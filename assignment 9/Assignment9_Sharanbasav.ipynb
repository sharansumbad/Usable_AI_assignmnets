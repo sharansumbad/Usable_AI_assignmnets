{
 "cells": [
  {
   "cell_type": "code",
   "execution_count": 1,
   "id": "8b50b401",
   "metadata": {},
   "outputs": [],
   "source": [
    "from sklearn.pipeline import Pipeline\n",
    "from sklearn.model_selection import GridSearchCV, train_test_split\n",
    "from sklearn.linear_model import LogisticRegression\n",
    "from sklearn.feature_extraction.text import TfidfVectorizer\n",
    "from nltk.stem.porter import PorterStemmer\n",
    "from nltk.corpus import stopwords\n",
    "import nltk\n",
    "import re\n",
    "from sklearn.naive_bayes import MultinomialNB, BernoulliNB, GaussianNB\n",
    "import pandas as pd\n",
    "import string\n",
    "from sklearn import feature_extraction, linear_model, model_selection, preprocessing\n",
    "from sklearn.metrics import accuracy_score\n",
    "from sklearn.model_selection import train_test_split\n",
    "from sklearn.linear_model import LogisticRegression"
   ]
  },
  {
   "cell_type": "code",
   "execution_count": 2,
   "id": "852a52f1",
   "metadata": {},
   "outputs": [],
   "source": [
    "# Opening the file\n",
    "f = open(\"amazon_cells_labelled.txt\", \"r\")\n",
    "\n",
    "data =[]\n",
    "# Converting it to pandas dataframe\n",
    "for line in f:\n",
    "    review = line[:len(line) - 2]\n",
    "    sentiment = line[len(line)-2]\n",
    "    row = [review, sentiment]\n",
    "    data.append(row)\n",
    "\n",
    "df = pd.DataFrame(data, columns = ['reviews', 'sentiment'])"
   ]
  },
  {
   "cell_type": "code",
   "execution_count": 3,
   "id": "feceb060",
   "metadata": {},
   "outputs": [],
   "source": [
    "# Opening the file\n",
    "f = open(\"yelp_labelled.txt\", \"r\")\n",
    "\n",
    "data =[]\n",
    "# Converting it to pandas dataframe\n",
    "for line in f:\n",
    "    review = line[:len(line) - 2]\n",
    "    sentiment = line[len(line)-2]\n",
    "    row = [review, sentiment]\n",
    "    data.append(row)\n",
    "\n",
    "df1 = pd.DataFrame(data, columns = ['reviews', 'sentiment'])"
   ]
  },
  {
   "cell_type": "code",
   "execution_count": 4,
   "id": "7c2e3a24",
   "metadata": {},
   "outputs": [],
   "source": [
    "# Opening the file\n",
    "f = open(\"imdb_labelled.txt\", \"r\")\n",
    "\n",
    "data =[]\n",
    "# Converting it to pandas dataframe\n",
    "for line in f:\n",
    "    review = line[:len(line) - 2]\n",
    "    sentiment = line[len(line)-2]\n",
    "    row = [review, sentiment]\n",
    "    data.append(row)\n",
    "\n",
    "df2 = pd.DataFrame(data, columns = ['reviews', 'sentiment'])"
   ]
  },
  {
   "cell_type": "code",
   "execution_count": 6,
   "id": "047ae3ab",
   "metadata": {},
   "outputs": [
    {
     "data": {
      "text/plain": [
       "1000"
      ]
     },
     "execution_count": 6,
     "metadata": {},
     "output_type": "execute_result"
    }
   ],
   "source": [
    "len(df)"
   ]
  },
  {
   "cell_type": "code",
   "execution_count": 7,
   "id": "cd06becb",
   "metadata": {},
   "outputs": [],
   "source": [
    "df = df.append(df1).append(df2)"
   ]
  },
  {
   "cell_type": "code",
   "execution_count": 8,
   "id": "ff1fbcc7",
   "metadata": {},
   "outputs": [
    {
     "data": {
      "text/plain": [
       "3000"
      ]
     },
     "execution_count": 8,
     "metadata": {},
     "output_type": "execute_result"
    }
   ],
   "source": [
    "len(df)"
   ]
  },
  {
   "cell_type": "code",
   "execution_count": 11,
   "id": "dc543471",
   "metadata": {},
   "outputs": [
    {
     "name": "stderr",
     "output_type": "stream",
     "text": [
      "<ipython-input-11-ab282e7c83b5>:10: FutureWarning: The default value of regex will change from True to False in a future version.\n",
      "  df['reviews'] = df.reviews.str.replace(\"[^\\w\\s]\", \"\").str.lower()\n"
     ]
    }
   ],
   "source": [
    "import pandas as pd\n",
    "from nltk.tokenize import word_tokenize\n",
    "from nltk.corpus import stopwords\n",
    "\n",
    "#removing the stop words from the corpus\n",
    "\n",
    "stop = stopwords.words('english') \n",
    "\n",
    "\n",
    "df['reviews'] = df.reviews.str.replace(\"[^\\w\\s]\", \"\").str.lower()\n",
    "df['reviews'] = df['reviews'].apply(lambda x: ' '.join([item for item in x.split() if item not in stop]))"
   ]
  },
  {
   "cell_type": "code",
   "execution_count": 12,
   "id": "6919ad98",
   "metadata": {},
   "outputs": [
    {
     "data": {
      "text/html": [
       "<div>\n",
       "<style scoped>\n",
       "    .dataframe tbody tr th:only-of-type {\n",
       "        vertical-align: middle;\n",
       "    }\n",
       "\n",
       "    .dataframe tbody tr th {\n",
       "        vertical-align: top;\n",
       "    }\n",
       "\n",
       "    .dataframe thead th {\n",
       "        text-align: right;\n",
       "    }\n",
       "</style>\n",
       "<table border=\"1\" class=\"dataframe\">\n",
       "  <thead>\n",
       "    <tr style=\"text-align: right;\">\n",
       "      <th></th>\n",
       "      <th>reviews</th>\n",
       "      <th>sentiment</th>\n",
       "    </tr>\n",
       "  </thead>\n",
       "  <tbody>\n",
       "    <tr>\n",
       "      <th>0</th>\n",
       "      <td>way plug us unless go converter</td>\n",
       "      <td>0</td>\n",
       "    </tr>\n",
       "    <tr>\n",
       "      <th>1</th>\n",
       "      <td>good case excellent value</td>\n",
       "      <td>1</td>\n",
       "    </tr>\n",
       "    <tr>\n",
       "      <th>2</th>\n",
       "      <td>great jawbone</td>\n",
       "      <td>1</td>\n",
       "    </tr>\n",
       "    <tr>\n",
       "      <th>3</th>\n",
       "      <td>tied charger conversations lasting 45 minutesm...</td>\n",
       "      <td>0</td>\n",
       "    </tr>\n",
       "    <tr>\n",
       "      <th>4</th>\n",
       "      <td>mic great</td>\n",
       "      <td>1</td>\n",
       "    </tr>\n",
       "  </tbody>\n",
       "</table>\n",
       "</div>"
      ],
      "text/plain": [
       "                                             reviews sentiment\n",
       "0                    way plug us unless go converter         0\n",
       "1                          good case excellent value         1\n",
       "2                                      great jawbone         1\n",
       "3  tied charger conversations lasting 45 minutesm...         0\n",
       "4                                          mic great         1"
      ]
     },
     "execution_count": 12,
     "metadata": {},
     "output_type": "execute_result"
    }
   ],
   "source": [
    "df.head()"
   ]
  },
  {
   "cell_type": "code",
   "execution_count": 13,
   "id": "41ddc1af",
   "metadata": {},
   "outputs": [],
   "source": [
    "#function to remove numeric characters\n",
    "\n",
    "def remove_numric_character(x):\n",
    "    x = re.sub(r'\\b[0-9]+\\b\\s*', '', x)\n",
    "    return x   \n",
    "\n",
    "#function to remove punctuations\n",
    "def remove_punctuations(text):\n",
    "    for punctuation in string.punctuation:\n",
    "        text = text.replace(punctuation, '')\n",
    "    return text\n",
    "\n",
    "\n",
    "#function to clean the string\n",
    "def clean_string(s):\n",
    "    tokens = s.strip().split()\n",
    "    clean_tokens = [t for t in tokens if re.match(r'[^\\W\\d]*$', t)]\n",
    "    clean_s = ' '.join(clean_tokens)\n",
    "    return clean_s\n"
   ]
  },
  {
   "cell_type": "code",
   "execution_count": 14,
   "id": "bc62e6b6",
   "metadata": {},
   "outputs": [],
   "source": [
    "#mapping the above functions\n",
    "\n",
    "df[\"reviews\"] = df['reviews'].apply(remove_punctuations)\n",
    "df[\"reviews\"] = df['reviews'].apply(remove_numric_character)\n",
    "df[\"reviews\"] = df['reviews'].apply(clean_string)"
   ]
  },
  {
   "cell_type": "code",
   "execution_count": 15,
   "id": "73d0eb33",
   "metadata": {},
   "outputs": [
    {
     "name": "stdout",
     "output_type": "stream",
     "text": [
      "<class 'pandas.core.frame.DataFrame'>\n",
      "Int64Index: 3000 entries, 0 to 999\n",
      "Data columns (total 2 columns):\n",
      " #   Column     Non-Null Count  Dtype \n",
      "---  ------     --------------  ----- \n",
      " 0   reviews    3000 non-null   object\n",
      " 1   sentiment  3000 non-null   object\n",
      "dtypes: object(2)\n",
      "memory usage: 70.3+ KB\n"
     ]
    }
   ],
   "source": [
    "df.info()"
   ]
  },
  {
   "cell_type": "code",
   "execution_count": 16,
   "id": "dbec6a85",
   "metadata": {},
   "outputs": [],
   "source": [
    "#train test split and creating pipeline\n",
    "\n",
    "x_train,x_test,y_train,y_test = train_test_split(df[\"reviews\"], df.sentiment, test_size=0.33, random_state=20)\n",
    "pipe_lr = Pipeline([('tfidf', TfidfVectorizer()), ('clf', LogisticRegression(random_state=42))])"
   ]
  },
  {
   "cell_type": "code",
   "execution_count": 17,
   "id": "12e0d694",
   "metadata": {},
   "outputs": [],
   "source": [
    "#parameters for logistic regression\n",
    "\n",
    "param_range_fl = [0.1, 1, 10,  100]\n",
    "grid_params_lr = [{'clf__penalty': ['l1', 'l2'],\n",
    "        'clf__C': param_range_fl,\n",
    "        'clf__solver': ['newton-cg','liblinear']}] "
   ]
  },
  {
   "cell_type": "code",
   "execution_count": 28,
   "id": "cccaf6e2",
   "metadata": {},
   "outputs": [],
   "source": [
    "#Logistic regression grid CV\n",
    "\n",
    "LR = GridSearchCV(estimator=pipe_lr,\n",
    "            param_grid=grid_params_lr,\n",
    "            scoring='roc_auc',\n",
    "            cv=10 , verbose = 3 ) "
   ]
  },
  {
   "cell_type": "code",
   "execution_count": 29,
   "id": "e3f92f5b",
   "metadata": {},
   "outputs": [
    {
     "name": "stdout",
     "output_type": "stream",
     "text": [
      "Fitting 10 folds for each of 16 candidates, totalling 160 fits\n",
      "[CV 1/10] END clf__C=0.1, clf__penalty=l1, clf__solver=newton-cg;, score=nan total time=   0.0s\n",
      "[CV 2/10] END clf__C=0.1, clf__penalty=l1, clf__solver=newton-cg;, score=nan total time=   0.0s\n",
      "[CV 3/10] END clf__C=0.1, clf__penalty=l1, clf__solver=newton-cg;, score=nan total time=   0.0s\n",
      "[CV 4/10] END clf__C=0.1, clf__penalty=l1, clf__solver=newton-cg;, score=nan total time=   0.0s\n",
      "[CV 5/10] END clf__C=0.1, clf__penalty=l1, clf__solver=newton-cg;, score=nan total time=   0.0s\n",
      "[CV 6/10] END clf__C=0.1, clf__penalty=l1, clf__solver=newton-cg;, score=nan total time=   0.0s\n",
      "[CV 7/10] END clf__C=0.1, clf__penalty=l1, clf__solver=newton-cg;, score=nan total time=   0.0s\n",
      "[CV 8/10] END clf__C=0.1, clf__penalty=l1, clf__solver=newton-cg;, score=nan total time=   0.0s\n",
      "[CV 9/10] END clf__C=0.1, clf__penalty=l1, clf__solver=newton-cg;, score=nan total time=   0.0s\n",
      "[CV 10/10] END clf__C=0.1, clf__penalty=l1, clf__solver=newton-cg;, score=nan total time=   0.0s\n",
      "[CV 1/10] END clf__C=0.1, clf__penalty=l1, clf__solver=liblinear;, score=0.599 total time=   0.0s\n",
      "[CV 2/10] END clf__C=0.1, clf__penalty=l1, clf__solver=liblinear;, score=0.593 total time=   0.0s\n",
      "[CV 3/10] END clf__C=0.1, clf__penalty=l1, clf__solver=liblinear;, score=0.590 total time=   0.0s\n",
      "[CV 4/10] END clf__C=0.1, clf__penalty=l1, clf__solver=liblinear;, score=0.598 total time=   0.0s\n",
      "[CV 5/10] END clf__C=0.1, clf__penalty=l1, clf__solver=liblinear;, score=0.592 total time=   0.0s\n",
      "[CV 6/10] END clf__C=0.1, clf__penalty=l1, clf__solver=liblinear;, score=0.618 total time=   0.0s\n",
      "[CV 7/10] END clf__C=0.1, clf__penalty=l1, clf__solver=liblinear;, score=0.598 total time=   0.0s\n",
      "[CV 8/10] END clf__C=0.1, clf__penalty=l1, clf__solver=liblinear;, score=0.600 total time=   0.0s\n",
      "[CV 9/10] END clf__C=0.1, clf__penalty=l1, clf__solver=liblinear;, score=0.600 total time=   0.0s\n",
      "[CV 10/10] END clf__C=0.1, clf__penalty=l1, clf__solver=liblinear;, score=0.612 total time=   0.0s\n",
      "[CV 1/10] END clf__C=0.1, clf__penalty=l2, clf__solver=newton-cg;, score=0.834 total time=   0.0s\n",
      "[CV 2/10] END clf__C=0.1, clf__penalty=l2, clf__solver=newton-cg;, score=0.865 total time=   0.0s\n",
      "[CV 3/10] END clf__C=0.1, clf__penalty=l2, clf__solver=newton-cg;, score=0.813 total time=   0.0s\n",
      "[CV 4/10] END clf__C=0.1, clf__penalty=l2, clf__solver=newton-cg;, score=0.852 total time=   0.0s\n",
      "[CV 5/10] END clf__C=0.1, clf__penalty=l2, clf__solver=newton-cg;, score=0.859 total time=   0.0s\n",
      "[CV 6/10] END clf__C=0.1, clf__penalty=l2, clf__solver=newton-cg;, score=0.846 total time=   0.0s\n",
      "[CV 7/10] END clf__C=0.1, clf__penalty=l2, clf__solver=newton-cg;, score=0.882 total time=   0.0s\n",
      "[CV 8/10] END clf__C=0.1, clf__penalty=l2, clf__solver=newton-cg;, score=0.844 total time=   0.0s\n",
      "[CV 9/10] END clf__C=0.1, clf__penalty=l2, clf__solver=newton-cg;, score=0.875 total time=   0.0s\n",
      "[CV 10/10] END clf__C=0.1, clf__penalty=l2, clf__solver=newton-cg;, score=0.887 total time=   0.0s\n",
      "[CV 1/10] END clf__C=0.1, clf__penalty=l2, clf__solver=liblinear;, score=0.834 total time=   0.0s\n",
      "[CV 2/10] END clf__C=0.1, clf__penalty=l2, clf__solver=liblinear;, score=0.865 total time=   0.0s\n",
      "[CV 3/10] END clf__C=0.1, clf__penalty=l2, clf__solver=liblinear;, score=0.814 total time=   0.0s\n",
      "[CV 4/10] END clf__C=0.1, clf__penalty=l2, clf__solver=liblinear;, score=0.852 total time=   0.0s\n",
      "[CV 5/10] END clf__C=0.1, clf__penalty=l2, clf__solver=liblinear;, score=0.859 total time=   0.0s\n",
      "[CV 6/10] END clf__C=0.1, clf__penalty=l2, clf__solver=liblinear;, score=0.846 total time=   0.0s\n",
      "[CV 7/10] END clf__C=0.1, clf__penalty=l2, clf__solver=liblinear;, score=0.882 total time=   0.0s\n",
      "[CV 8/10] END clf__C=0.1, clf__penalty=l2, clf__solver=liblinear;, score=0.844 total time=   0.0s\n",
      "[CV 9/10] END clf__C=0.1, clf__penalty=l2, clf__solver=liblinear;, score=0.876 total time=   0.0s\n",
      "[CV 10/10] END clf__C=0.1, clf__penalty=l2, clf__solver=liblinear;, score=0.887 total time=   0.0s\n",
      "[CV 1/10] END clf__C=1, clf__penalty=l1, clf__solver=newton-cg;, score=nan total time=   0.0s\n",
      "[CV 2/10] END clf__C=1, clf__penalty=l1, clf__solver=newton-cg;, score=nan total time=   0.0s\n",
      "[CV 3/10] END clf__C=1, clf__penalty=l1, clf__solver=newton-cg;, score=nan total time=   0.0s\n",
      "[CV 4/10] END clf__C=1, clf__penalty=l1, clf__solver=newton-cg;, score=nan total time=   0.0s\n",
      "[CV 5/10] END clf__C=1, clf__penalty=l1, clf__solver=newton-cg;, score=nan total time=   0.0s\n",
      "[CV 6/10] END clf__C=1, clf__penalty=l1, clf__solver=newton-cg;, score=nan total time=   0.0s\n",
      "[CV 7/10] END clf__C=1, clf__penalty=l1, clf__solver=newton-cg;, score=nan total time=   0.0s\n",
      "[CV 8/10] END clf__C=1, clf__penalty=l1, clf__solver=newton-cg;, score=nan total time=   0.0s\n",
      "[CV 9/10] END clf__C=1, clf__penalty=l1, clf__solver=newton-cg;, score=nan total time=   0.0s\n",
      "[CV 10/10] END clf__C=1, clf__penalty=l1, clf__solver=newton-cg;, score=nan total time=   0.0s\n",
      "[CV 1/10] END clf__C=1, clf__penalty=l1, clf__solver=liblinear;, score=0.805 total time=   0.0s\n",
      "[CV 2/10] END clf__C=1, clf__penalty=l1, clf__solver=liblinear;, score=0.832 total time=   0.0s\n",
      "[CV 3/10] END clf__C=1, clf__penalty=l1, clf__solver=liblinear;, score=0.795 total time=   0.0s\n",
      "[CV 4/10] END clf__C=1, clf__penalty=l1, clf__solver=liblinear;, score=0.846 total time=   0.0s\n",
      "[CV 5/10] END clf__C=1, clf__penalty=l1, clf__solver=liblinear;, score=0.843 total time=   0.0s\n",
      "[CV 6/10] END clf__C=1, clf__penalty=l1, clf__solver=liblinear;, score=0.840 total time=   0.0s\n",
      "[CV 7/10] END clf__C=1, clf__penalty=l1, clf__solver=liblinear;, score=0.838 total time=   0.0s\n",
      "[CV 8/10] END clf__C=1, clf__penalty=l1, clf__solver=liblinear;, score=0.828 total time=   0.0s\n",
      "[CV 9/10] END clf__C=1, clf__penalty=l1, clf__solver=liblinear;, score=0.836 total time=   0.0s\n",
      "[CV 10/10] END clf__C=1, clf__penalty=l1, clf__solver=liblinear;, score=0.848 total time=   0.0s\n",
      "[CV 1/10] END clf__C=1, clf__penalty=l2, clf__solver=newton-cg;, score=0.855 total time=   0.0s\n",
      "[CV 2/10] END clf__C=1, clf__penalty=l2, clf__solver=newton-cg;, score=0.886 total time=   0.0s\n",
      "[CV 3/10] END clf__C=1, clf__penalty=l2, clf__solver=newton-cg;, score=0.831 total time=   0.0s\n",
      "[CV 4/10] END clf__C=1, clf__penalty=l2, clf__solver=newton-cg;, score=0.869 total time=   0.0s\n",
      "[CV 5/10] END clf__C=1, clf__penalty=l2, clf__solver=newton-cg;, score=0.877 total time=   0.0s\n",
      "[CV 6/10] END clf__C=1, clf__penalty=l2, clf__solver=newton-cg;, score=0.864 total time=   0.0s\n",
      "[CV 7/10] END clf__C=1, clf__penalty=l2, clf__solver=newton-cg;, score=0.887 total time=   0.0s\n",
      "[CV 8/10] END clf__C=1, clf__penalty=l2, clf__solver=newton-cg;, score=0.858 total time=   0.0s\n",
      "[CV 9/10] END clf__C=1, clf__penalty=l2, clf__solver=newton-cg;, score=0.895 total time=   0.0s\n",
      "[CV 10/10] END clf__C=1, clf__penalty=l2, clf__solver=newton-cg;, score=0.911 total time=   0.0s\n",
      "[CV 1/10] END clf__C=1, clf__penalty=l2, clf__solver=liblinear;, score=0.855 total time=   0.0s\n",
      "[CV 2/10] END clf__C=1, clf__penalty=l2, clf__solver=liblinear;, score=0.886 total time=   0.0s\n",
      "[CV 3/10] END clf__C=1, clf__penalty=l2, clf__solver=liblinear;, score=0.831 total time=   0.0s\n",
      "[CV 4/10] END clf__C=1, clf__penalty=l2, clf__solver=liblinear;, score=0.869 total time=   0.0s\n",
      "[CV 5/10] END clf__C=1, clf__penalty=l2, clf__solver=liblinear;, score=0.877 total time=   0.0s\n",
      "[CV 6/10] END clf__C=1, clf__penalty=l2, clf__solver=liblinear;, score=0.865 total time=   0.0s\n",
      "[CV 7/10] END clf__C=1, clf__penalty=l2, clf__solver=liblinear;, score=0.887 total time=   0.0s\n",
      "[CV 8/10] END clf__C=1, clf__penalty=l2, clf__solver=liblinear;, score=0.858 total time=   0.0s\n",
      "[CV 9/10] END clf__C=1, clf__penalty=l2, clf__solver=liblinear;, score=0.895 total time=   0.0s\n",
      "[CV 10/10] END clf__C=1, clf__penalty=l2, clf__solver=liblinear;, score=0.911 total time=   0.0s\n",
      "[CV 1/10] END clf__C=10, clf__penalty=l1, clf__solver=newton-cg;, score=nan total time=   0.0s\n",
      "[CV 2/10] END clf__C=10, clf__penalty=l1, clf__solver=newton-cg;, score=nan total time=   0.0s\n",
      "[CV 3/10] END clf__C=10, clf__penalty=l1, clf__solver=newton-cg;, score=nan total time=   0.0s\n",
      "[CV 4/10] END clf__C=10, clf__penalty=l1, clf__solver=newton-cg;, score=nan total time=   0.0s\n",
      "[CV 5/10] END clf__C=10, clf__penalty=l1, clf__solver=newton-cg;, score=nan total time=   0.0s\n",
      "[CV 6/10] END clf__C=10, clf__penalty=l1, clf__solver=newton-cg;, score=nan total time=   0.0s\n",
      "[CV 7/10] END clf__C=10, clf__penalty=l1, clf__solver=newton-cg;, score=nan total time=   0.0s\n",
      "[CV 8/10] END clf__C=10, clf__penalty=l1, clf__solver=newton-cg;, score=nan total time=   0.0s\n",
      "[CV 9/10] END clf__C=10, clf__penalty=l1, clf__solver=newton-cg;, score=nan total time=   0.0s\n",
      "[CV 10/10] END clf__C=10, clf__penalty=l1, clf__solver=newton-cg;, score=nan total time=   0.0s\n"
     ]
    },
    {
     "name": "stderr",
     "output_type": "stream",
     "text": [
      "/Users/sharanbasavasumbad/python-env/env/lib/python3.9/site-packages/sklearn/svm/_base.py:1206: ConvergenceWarning: Liblinear failed to converge, increase the number of iterations.\n",
      "  warnings.warn(\n"
     ]
    },
    {
     "name": "stdout",
     "output_type": "stream",
     "text": [
      "[CV 1/10] END clf__C=10, clf__penalty=l1, clf__solver=liblinear;, score=0.818 total time=   2.3s\n"
     ]
    },
    {
     "name": "stderr",
     "output_type": "stream",
     "text": [
      "/Users/sharanbasavasumbad/python-env/env/lib/python3.9/site-packages/sklearn/svm/_base.py:1206: ConvergenceWarning: Liblinear failed to converge, increase the number of iterations.\n",
      "  warnings.warn(\n"
     ]
    },
    {
     "name": "stdout",
     "output_type": "stream",
     "text": [
      "[CV 2/10] END clf__C=10, clf__penalty=l1, clf__solver=liblinear;, score=0.865 total time=   2.4s\n",
      "[CV 3/10] END clf__C=10, clf__penalty=l1, clf__solver=liblinear;, score=0.788 total time=   0.0s\n"
     ]
    },
    {
     "name": "stderr",
     "output_type": "stream",
     "text": [
      "/Users/sharanbasavasumbad/python-env/env/lib/python3.9/site-packages/sklearn/svm/_base.py:1206: ConvergenceWarning: Liblinear failed to converge, increase the number of iterations.\n",
      "  warnings.warn(\n"
     ]
    },
    {
     "name": "stdout",
     "output_type": "stream",
     "text": [
      "[CV 4/10] END clf__C=10, clf__penalty=l1, clf__solver=liblinear;, score=0.875 total time=   2.5s\n",
      "[CV 5/10] END clf__C=10, clf__penalty=l1, clf__solver=liblinear;, score=0.865 total time=   0.0s\n"
     ]
    },
    {
     "name": "stderr",
     "output_type": "stream",
     "text": [
      "/Users/sharanbasavasumbad/python-env/env/lib/python3.9/site-packages/sklearn/svm/_base.py:1206: ConvergenceWarning: Liblinear failed to converge, increase the number of iterations.\n",
      "  warnings.warn(\n"
     ]
    },
    {
     "name": "stdout",
     "output_type": "stream",
     "text": [
      "[CV 6/10] END clf__C=10, clf__penalty=l1, clf__solver=liblinear;, score=0.846 total time=   2.3s\n",
      "[CV 7/10] END clf__C=10, clf__penalty=l1, clf__solver=liblinear;, score=0.850 total time=   0.0s\n"
     ]
    },
    {
     "name": "stderr",
     "output_type": "stream",
     "text": [
      "/Users/sharanbasavasumbad/python-env/env/lib/python3.9/site-packages/sklearn/svm/_base.py:1206: ConvergenceWarning: Liblinear failed to converge, increase the number of iterations.\n",
      "  warnings.warn(\n"
     ]
    },
    {
     "name": "stdout",
     "output_type": "stream",
     "text": [
      "[CV 8/10] END clf__C=10, clf__penalty=l1, clf__solver=liblinear;, score=0.827 total time=   2.2s\n",
      "[CV 9/10] END clf__C=10, clf__penalty=l1, clf__solver=liblinear;, score=0.884 total time=   0.0s\n"
     ]
    },
    {
     "name": "stderr",
     "output_type": "stream",
     "text": [
      "/Users/sharanbasavasumbad/python-env/env/lib/python3.9/site-packages/sklearn/svm/_base.py:1206: ConvergenceWarning: Liblinear failed to converge, increase the number of iterations.\n",
      "  warnings.warn(\n"
     ]
    },
    {
     "name": "stdout",
     "output_type": "stream",
     "text": [
      "[CV 10/10] END clf__C=10, clf__penalty=l1, clf__solver=liblinear;, score=0.888 total time=   2.4s\n",
      "[CV 1/10] END clf__C=10, clf__penalty=l2, clf__solver=newton-cg;, score=0.861 total time=   0.0s\n",
      "[CV 2/10] END clf__C=10, clf__penalty=l2, clf__solver=newton-cg;, score=0.885 total time=   0.0s\n",
      "[CV 3/10] END clf__C=10, clf__penalty=l2, clf__solver=newton-cg;, score=0.831 total time=   0.0s\n",
      "[CV 4/10] END clf__C=10, clf__penalty=l2, clf__solver=newton-cg;, score=0.873 total time=   0.0s\n",
      "[CV 5/10] END clf__C=10, clf__penalty=l2, clf__solver=newton-cg;, score=0.876 total time=   0.0s\n",
      "[CV 6/10] END clf__C=10, clf__penalty=l2, clf__solver=newton-cg;, score=0.871 total time=   0.0s\n",
      "[CV 7/10] END clf__C=10, clf__penalty=l2, clf__solver=newton-cg;, score=0.875 total time=   0.0s\n",
      "[CV 8/10] END clf__C=10, clf__penalty=l2, clf__solver=newton-cg;, score=0.855 total time=   0.0s\n",
      "[CV 9/10] END clf__C=10, clf__penalty=l2, clf__solver=newton-cg;, score=0.897 total time=   0.0s\n",
      "[CV 10/10] END clf__C=10, clf__penalty=l2, clf__solver=newton-cg;, score=0.902 total time=   0.0s\n",
      "[CV 1/10] END clf__C=10, clf__penalty=l2, clf__solver=liblinear;, score=0.862 total time=   0.0s\n",
      "[CV 2/10] END clf__C=10, clf__penalty=l2, clf__solver=liblinear;, score=0.885 total time=   0.0s\n",
      "[CV 3/10] END clf__C=10, clf__penalty=l2, clf__solver=liblinear;, score=0.831 total time=   0.0s\n",
      "[CV 4/10] END clf__C=10, clf__penalty=l2, clf__solver=liblinear;, score=0.873 total time=   0.0s\n",
      "[CV 5/10] END clf__C=10, clf__penalty=l2, clf__solver=liblinear;, score=0.876 total time=   0.0s\n",
      "[CV 6/10] END clf__C=10, clf__penalty=l2, clf__solver=liblinear;, score=0.871 total time=   0.0s\n",
      "[CV 7/10] END clf__C=10, clf__penalty=l2, clf__solver=liblinear;, score=0.875 total time=   0.0s\n",
      "[CV 8/10] END clf__C=10, clf__penalty=l2, clf__solver=liblinear;, score=0.855 total time=   0.0s\n",
      "[CV 9/10] END clf__C=10, clf__penalty=l2, clf__solver=liblinear;, score=0.897 total time=   0.0s\n",
      "[CV 10/10] END clf__C=10, clf__penalty=l2, clf__solver=liblinear;, score=0.902 total time=   0.0s\n",
      "[CV 1/10] END clf__C=100, clf__penalty=l1, clf__solver=newton-cg;, score=nan total time=   0.0s\n",
      "[CV 2/10] END clf__C=100, clf__penalty=l1, clf__solver=newton-cg;, score=nan total time=   0.0s\n",
      "[CV 3/10] END clf__C=100, clf__penalty=l1, clf__solver=newton-cg;, score=nan total time=   0.0s\n",
      "[CV 4/10] END clf__C=100, clf__penalty=l1, clf__solver=newton-cg;, score=nan total time=   0.0s\n",
      "[CV 5/10] END clf__C=100, clf__penalty=l1, clf__solver=newton-cg;, score=nan total time=   0.0s\n",
      "[CV 6/10] END clf__C=100, clf__penalty=l1, clf__solver=newton-cg;, score=nan total time=   0.0s\n",
      "[CV 7/10] END clf__C=100, clf__penalty=l1, clf__solver=newton-cg;, score=nan total time=   0.0s\n",
      "[CV 8/10] END clf__C=100, clf__penalty=l1, clf__solver=newton-cg;, score=nan total time=   0.0s\n",
      "[CV 9/10] END clf__C=100, clf__penalty=l1, clf__solver=newton-cg;, score=nan total time=   0.0s\n",
      "[CV 10/10] END clf__C=100, clf__penalty=l1, clf__solver=newton-cg;, score=nan total time=   0.0s\n",
      "[CV 1/10] END clf__C=100, clf__penalty=l1, clf__solver=liblinear;, score=0.806 total time=   0.0s\n",
      "[CV 2/10] END clf__C=100, clf__penalty=l1, clf__solver=liblinear;, score=0.846 total time=   0.0s\n",
      "[CV 3/10] END clf__C=100, clf__penalty=l1, clf__solver=liblinear;, score=0.767 total time=   0.0s\n",
      "[CV 4/10] END clf__C=100, clf__penalty=l1, clf__solver=liblinear;, score=0.838 total time=   0.0s\n",
      "[CV 5/10] END clf__C=100, clf__penalty=l1, clf__solver=liblinear;, score=0.842 total time=   0.0s\n",
      "[CV 6/10] END clf__C=100, clf__penalty=l1, clf__solver=liblinear;, score=0.828 total time=   0.0s\n",
      "[CV 7/10] END clf__C=100, clf__penalty=l1, clf__solver=liblinear;, score=0.833 total time=   0.0s\n",
      "[CV 8/10] END clf__C=100, clf__penalty=l1, clf__solver=liblinear;, score=0.802 total time=   0.0s\n",
      "[CV 9/10] END clf__C=100, clf__penalty=l1, clf__solver=liblinear;, score=0.875 total time=   0.0s\n",
      "[CV 10/10] END clf__C=100, clf__penalty=l1, clf__solver=liblinear;, score=0.862 total time=   0.0s\n",
      "[CV 1/10] END clf__C=100, clf__penalty=l2, clf__solver=newton-cg;, score=0.857 total time=   0.0s\n",
      "[CV 2/10] END clf__C=100, clf__penalty=l2, clf__solver=newton-cg;, score=0.871 total time=   0.0s\n",
      "[CV 3/10] END clf__C=100, clf__penalty=l2, clf__solver=newton-cg;, score=0.810 total time=   0.0s\n",
      "[CV 4/10] END clf__C=100, clf__penalty=l2, clf__solver=newton-cg;, score=0.855 total time=   0.0s\n",
      "[CV 5/10] END clf__C=100, clf__penalty=l2, clf__solver=newton-cg;, score=0.848 total time=   0.0s\n",
      "[CV 6/10] END clf__C=100, clf__penalty=l2, clf__solver=newton-cg;, score=0.858 total time=   0.0s\n",
      "[CV 7/10] END clf__C=100, clf__penalty=l2, clf__solver=newton-cg;, score=0.859 total time=   0.0s\n",
      "[CV 8/10] END clf__C=100, clf__penalty=l2, clf__solver=newton-cg;, score=0.829 total time=   0.0s\n",
      "[CV 9/10] END clf__C=100, clf__penalty=l2, clf__solver=newton-cg;, score=0.884 total time=   0.0s\n",
      "[CV 10/10] END clf__C=100, clf__penalty=l2, clf__solver=newton-cg;, score=0.884 total time=   0.0s\n",
      "[CV 1/10] END clf__C=100, clf__penalty=l2, clf__solver=liblinear;, score=0.857 total time=   0.0s\n",
      "[CV 2/10] END clf__C=100, clf__penalty=l2, clf__solver=liblinear;, score=0.871 total time=   0.0s\n",
      "[CV 3/10] END clf__C=100, clf__penalty=l2, clf__solver=liblinear;, score=0.811 total time=   0.0s\n",
      "[CV 4/10] END clf__C=100, clf__penalty=l2, clf__solver=liblinear;, score=0.855 total time=   0.0s\n",
      "[CV 5/10] END clf__C=100, clf__penalty=l2, clf__solver=liblinear;, score=0.848 total time=   0.0s\n",
      "[CV 6/10] END clf__C=100, clf__penalty=l2, clf__solver=liblinear;, score=0.858 total time=   0.0s\n",
      "[CV 7/10] END clf__C=100, clf__penalty=l2, clf__solver=liblinear;, score=0.859 total time=   0.0s\n",
      "[CV 8/10] END clf__C=100, clf__penalty=l2, clf__solver=liblinear;, score=0.829 total time=   0.0s\n",
      "[CV 9/10] END clf__C=100, clf__penalty=l2, clf__solver=liblinear;, score=0.884 total time=   0.0s\n",
      "[CV 10/10] END clf__C=100, clf__penalty=l2, clf__solver=liblinear;, score=0.884 total time=   0.0s\n"
     ]
    },
    {
     "name": "stderr",
     "output_type": "stream",
     "text": [
      "/Users/sharanbasavasumbad/python-env/env/lib/python3.9/site-packages/sklearn/model_selection/_validation.py:372: FitFailedWarning: \n",
      "40 fits failed out of a total of 160.\n",
      "The score on these train-test partitions for these parameters will be set to nan.\n",
      "If these failures are not expected, you can try to debug them by setting error_score='raise'.\n",
      "\n",
      "Below are more details about the failures:\n",
      "--------------------------------------------------------------------------------\n",
      "40 fits failed with the following error:\n",
      "Traceback (most recent call last):\n",
      "  File \"/Users/sharanbasavasumbad/python-env/env/lib/python3.9/site-packages/sklearn/model_selection/_validation.py\", line 680, in _fit_and_score\n",
      "    estimator.fit(X_train, y_train, **fit_params)\n",
      "  File \"/Users/sharanbasavasumbad/python-env/env/lib/python3.9/site-packages/sklearn/pipeline.py\", line 394, in fit\n",
      "    self._final_estimator.fit(Xt, y, **fit_params_last_step)\n",
      "  File \"/Users/sharanbasavasumbad/python-env/env/lib/python3.9/site-packages/sklearn/linear_model/_logistic.py\", line 1461, in fit\n",
      "    solver = _check_solver(self.solver, self.penalty, self.dual)\n",
      "  File \"/Users/sharanbasavasumbad/python-env/env/lib/python3.9/site-packages/sklearn/linear_model/_logistic.py\", line 447, in _check_solver\n",
      "    raise ValueError(\n",
      "ValueError: Solver newton-cg supports only 'l2' or 'none' penalties, got l1 penalty.\n",
      "\n",
      "  warnings.warn(some_fits_failed_message, FitFailedWarning)\n",
      "/Users/sharanbasavasumbad/python-env/env/lib/python3.9/site-packages/sklearn/model_selection/_search.py:969: UserWarning: One or more of the test scores are non-finite: [       nan 0.59994243 0.85572191 0.85569222        nan 0.83108869\n",
      " 0.87343898 0.87342906        nan 0.8505382  0.87267647 0.87268638\n",
      "        nan 0.83006262 0.85563438 0.8556443 ]\n",
      "  warnings.warn(\n"
     ]
    },
    {
     "data": {
      "text/plain": [
       "GridSearchCV(cv=10,\n",
       "             estimator=Pipeline(steps=[('tfidf', TfidfVectorizer()),\n",
       "                                       ('clf',\n",
       "                                        LogisticRegression(random_state=42))]),\n",
       "             param_grid=[{'clf__C': [0.1, 1, 10, 100],\n",
       "                          'clf__penalty': ['l1', 'l2'],\n",
       "                          'clf__solver': ['newton-cg', 'liblinear']}],\n",
       "             scoring='roc_auc', verbose=3)"
      ]
     },
     "execution_count": 29,
     "metadata": {},
     "output_type": "execute_result"
    }
   ],
   "source": [
    "LR.fit(x_train, y_train)"
   ]
  },
  {
   "cell_type": "code",
   "execution_count": 30,
   "id": "b565603f",
   "metadata": {},
   "outputs": [
    {
     "name": "stdout",
     "output_type": "stream",
     "text": [
      "Best: 0.873439 using {'clf__C': 1, 'clf__penalty': 'l2', 'clf__solver': 'newton-cg'}\n"
     ]
    }
   ],
   "source": [
    "print(\"Best: %f using %s\" % (LR.best_score_,LR.best_params_))"
   ]
  },
  {
   "cell_type": "code",
   "execution_count": 31,
   "id": "f7b19378",
   "metadata": {},
   "outputs": [
    {
     "name": "stdout",
     "output_type": "stream",
     "text": [
      "Logistic Regression best grid score: 0.8734389767509754\n",
      "Logistic Regression grid test score: 0.8798686543209371\n",
      "Logistic Regression best params: {'clf__C': 1, 'clf__penalty': 'l2', 'clf__solver': 'newton-cg'}\n"
     ]
    }
   ],
   "source": [
    "print(\"Logistic Regression best grid score: \" + str(LR.best_score_))\n",
    "print(\"Logistic Regression grid test score: \" + str(LR.score(x_test, y_test)))\n",
    "\n",
    "LR_best_params = LR.best_params_\n",
    "print(\"Logistic Regression best params: \" + str(LR_best_params))"
   ]
  },
  {
   "cell_type": "code",
   "execution_count": 33,
   "id": "773e4ea3",
   "metadata": {},
   "outputs": [
    {
     "name": "stdout",
     "output_type": "stream",
     "text": [
      "[NbConvertApp] Converting notebook Assignment9_sharanbasav.ipynb to PDFviaHTML\n",
      "[NbConvertApp] Writing 175944 bytes to Assignment9_sharanbasav.pdf\n"
     ]
    }
   ],
   "source": [
    "!jupyter-nbconvert --to PDFviaHTML Assignment9_sharanbasav.ipynb"
   ]
  }
 ],
 "metadata": {
  "kernelspec": {
   "display_name": "Python 3",
   "language": "python",
   "name": "python3"
  },
  "language_info": {
   "codemirror_mode": {
    "name": "ipython",
    "version": 3
   },
   "file_extension": ".py",
   "mimetype": "text/x-python",
   "name": "python",
   "nbconvert_exporter": "python",
   "pygments_lexer": "ipython3",
   "version": "3.9.10"
  }
 },
 "nbformat": 4,
 "nbformat_minor": 5
}
